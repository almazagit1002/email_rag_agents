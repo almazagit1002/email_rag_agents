{
 "cells": [
  {
   "cell_type": "code",
   "execution_count": 2,
   "metadata": {},
   "outputs": [],
   "source": [
    "import os\n",
    "from pprint import pprint\n",
    "os.environ[\"LANGCHAIN_TRACING_V2\"] = \"true\"\n",
    "os.environ[\"LANGCHAIN_PROJECT\"] = \"Email_agents\""
   ]
  },
  {
   "cell_type": "code",
   "execution_count": 6,
   "metadata": {},
   "outputs": [
    {
     "data": {
      "text/plain": [
       "'c:\\\\Users\\\\Maza\\\\Desktop\\\\email_rag_agents\\\\research'"
      ]
     },
     "execution_count": 6,
     "metadata": {},
     "output_type": "execute_result"
    }
   ],
   "source": [
    "%pwd\n"
   ]
  },
  {
   "cell_type": "code",
   "execution_count": 8,
   "metadata": {},
   "outputs": [
    {
     "data": {
      "text/plain": [
       "'c:\\\\Users\\\\Maza\\\\Desktop\\\\email_rag_agents'"
      ]
     },
     "execution_count": 8,
     "metadata": {},
     "output_type": "execute_result"
    }
   ],
   "source": [
    "os.chdir(\"../\")\n",
    "%pwd"
   ]
  },
  {
   "cell_type": "code",
   "execution_count": 10,
   "metadata": {},
   "outputs": [
    {
     "name": "stdout",
     "output_type": "stream",
     "text": [
      "[Document(page_content='What is Westworld? A: Westworld is an immersive, high-tech theme park that allows guests to experience the Wild West in a realistic and interactive way, populated by advanced androids called \"hosts.\": Where is Westworld located? A: The exact location of Westworld is kept secret, but it is situated in a remote area, accessible only by the park\\'s own transportation services.', metadata={'source': 'artifacts\\\\westworld_resort_facts.csv', 'row': 0}), Document(page_content='What is Westworld? A: Westworld is an immersive, high-tech theme park that allows guests to experience the Wild West in a realistic and interactive way, populated by advanced androids called \"hosts.\": How do I get to Westworld? A: Guests are transported to Westworld via private shuttle services provided by the park. Detailed instructions are provided upon booking.', metadata={'source': 'artifacts\\\\westworld_resort_facts.csv', 'row': 1}), Document(page_content='What is Westworld? A: Westworld is an immersive, high-tech theme park that allows guests to experience the Wild West in a realistic and interactive way, populated by advanced androids called \"hosts.\": What are the operating hours of the park? A: Westworld is open 24 hours a day, 7 days a week, allowing guests to immerse themselves in the experience for as long as they desire.', metadata={'source': 'artifacts\\\\westworld_resort_facts.csv', 'row': 2}), Document(page_content='What is Westworld? A: Westworld is an immersive, high-tech theme park that allows guests to experience the Wild West in a realistic and interactive way, populated by advanced androids called \"hosts.\": How much does it cost to visit Westworld? A: The cost of visiting Westworld is substantial and varies depending on the length of stay and chosen package. Prices start at around $40,000 per day, with more exclusive packages available upon request.', metadata={'source': 'artifacts\\\\westworld_resort_facts.csv', 'row': 3}), Document(page_content='What is Westworld? A: Westworld is an immersive, high-tech theme park that allows guests to experience the Wild West in a realistic and interactive way, populated by advanced androids called \"hosts.\": Are there age restrictions for visiting the park? A: Due to the mature nature of some content and experiences within the park, guests must be at least 21 years old to enter Westworld.', metadata={'source': 'artifacts\\\\westworld_resort_facts.csv', 'row': 4}), Document(page_content='What is Westworld? A: Westworld is an immersive, high-tech theme park that allows guests to experience the Wild West in a realistic and interactive way, populated by advanced androids called \"hosts.\": What should I pack for my visit to Westworld? A: The park provides all necessary attire and equipment for your chosen experiences. However, guests are encouraged to bring personal items for comfort, such as toiletries and any necessary medications.', metadata={'source': 'artifacts\\\\westworld_resort_facts.csv', 'row': 5}), Document(page_content='What is Westworld? A: Westworld is an immersive, high-tech theme park that allows guests to experience the Wild West in a realistic and interactive way, populated by advanced androids called \"hosts.\": Can I bring my own weapons to the park? A: No, guests are not permitted to bring their own weapons. The park provides a wide array of authentic and safe weaponry for use within the designated areas.', metadata={'source': 'artifacts\\\\westworld_resort_facts.csv', 'row': 6}), Document(page_content='What is Westworld? A: Westworld is an immersive, high-tech theme park that allows guests to experience the Wild West in a realistic and interactive way, populated by advanced androids called \"hosts.\": How long can I stay in Westworld? A: The length of stay is up to the guest, with no maximum limit. However, a minimum stay of three days is required to fully immerse oneself in the Westworld experience.', metadata={'source': 'artifacts\\\\westworld_resort_facts.csv', 'row': 7}), Document(page_content='What is Westworld? A: Westworld is an immersive, high-tech theme park that allows guests to experience the Wild West in a realistic and interactive way, populated by advanced androids called \"hosts.\": What kind of experiences can I have in Westworld? A: Westworld offers a vast array of experiences, from action-packed adventures like gunfights and cattle drives to more intimate encounters with the hosts, such as romantic storylines or mystery-solving narratives.', metadata={'source': 'artifacts\\\\westworld_resort_facts.csv', 'row': 8}), Document(page_content='What is Westworld? A: Westworld is an immersive, high-tech theme park that allows guests to experience the Wild West in a realistic and interactive way, populated by advanced androids called \"hosts.\": How realistic are the hosts (artificial characters) in the park? A: The hosts in Westworld are incredibly advanced, with artificial intelligence and physical appearances that make them nearly indistinguishable from real humans. Their behaviors and responses are dynamic and tailored to each guest\\'s interactions.', metadata={'source': 'artifacts\\\\westworld_resort_facts.csv', 'row': 9}), Document(page_content='What is Westworld? A: Westworld is an immersive, high-tech theme park that allows guests to experience the Wild West in a realistic and interactive way, populated by advanced androids called \"hosts.\": Is there a limit to what I can do in Westworld? A: While the park offers a wide range of experiences and freedom, there are certain safety protocols and ethical guidelines in place to ensure guest and host well-being. However, the park is designed to push boundaries and cater to a variety of desires within reason.', metadata={'source': 'artifacts\\\\westworld_resort_facts.csv', 'row': 10}), Document(page_content='What is Westworld? A: Westworld is an immersive, high-tech theme park that allows guests to experience the Wild West in a realistic and interactive way, populated by advanced androids called \"hosts.\": Is Westworld safe? A: Guest safety is a top priority in Westworld. The park employs advanced technology and highly trained staff to monitor and maintain a secure environment. However, the immersive nature of the park does come with certain inherent risks.', metadata={'source': 'artifacts\\\\westworld_resort_facts.csv', 'row': 11}), Document(page_content='What is Westworld? A: Westworld is an immersive, high-tech theme park that allows guests to experience the Wild West in a realistic and interactive way, populated by advanced androids called \"hosts.\": What happens if I get injured in the park? A: Westworld has a dedicated medical team on-site to address any guest injuries or health concerns. The park also has comprehensive liability coverage for guests. However, guests are required to sign a waiver acknowledging the potential risks associated with the park\\'s immersive experiences.', metadata={'source': 'artifacts\\\\westworld_resort_facts.csv', 'row': 12}), Document(page_content='What is Westworld? A: Westworld is an immersive, high-tech theme park that allows guests to experience the Wild West in a realistic and interactive way, populated by advanced androids called \"hosts.\": Are there any special packages or promotions available? A: Westworld occasionally offers exclusive packages and promotions for special events or limited-time experiences. Guests can inquire about these opportunities when booking their stay or by contacting the park\\'s customer service representatives.', metadata={'source': 'artifacts\\\\westworld_resort_facts.csv', 'row': 13}), Document(page_content='What is Westworld? A: Westworld is an immersive, high-tech theme park that allows guests to experience the Wild West in a realistic and interactive way, populated by advanced androids called \"hosts.\": Are there any dining options available in the park? A: Yes, Westworld offers a variety of dining options, from authentic Western saloons and restaurants to high-end dining experiences. All meals are included in the price of your stay.', metadata={'source': 'artifacts\\\\westworld_resort_facts.csv', 'row': 14}), Document(page_content='What is Westworld? A: Westworld is an immersive, high-tech theme park that allows guests to experience the Wild West in a realistic and interactive way, populated by advanced androids called \"hosts.\": Can I bring my own food and drinks into Westworld? A: Outside food and drinks are not permitted in the park. However, Westworld provides a wide selection of food and beverage options to cater to all tastes and dietary requirements.', metadata={'source': 'artifacts\\\\westworld_resort_facts.csv', 'row': 15}), Document(page_content='What is Westworld? A: Westworld is an immersive, high-tech theme park that allows guests to experience the Wild West in a realistic and interactive way, populated by advanced androids called \"hosts.\": Are there any accommodations within the park, or do I need to stay outside? A: Westworld offers a range of luxurious accommodations within the park, from rustic lodges to upscale hotels, allowing guests to fully immerse themselves in the experience 24/7.', metadata={'source': 'artifacts\\\\westworld_resort_facts.csv', 'row': 16}), Document(page_content='What is Westworld? A: Westworld is an immersive, high-tech theme park that allows guests to experience the Wild West in a realistic and interactive way, populated by advanced androids called \"hosts.\": What kind of transportation is available within the park? A: Guests can travel within Westworld on horseback, by stagecoach, or via the park\\'s own train network. More modern transportation options, such as all-terrain vehicles, may be available for certain experiences.', metadata={'source': 'artifacts\\\\westworld_resort_facts.csv', 'row': 17}), Document(page_content='What is Westworld? A: Westworld is an immersive, high-tech theme park that allows guests to experience the Wild West in a realistic and interactive way, populated by advanced androids called \"hosts.\": Are there any special events or seasonal activities in Westworld? A: Yes, Westworld hosts special events and seasonal activities throughout the year, such as holiday celebrations, themed festivals, and exclusive limited-time storylines.', metadata={'source': 'artifacts\\\\westworld_resort_facts.csv', 'row': 18}), Document(page_content='What is Westworld? A: Westworld is an immersive, high-tech theme park that allows guests to experience the Wild West in a realistic and interactive way, populated by advanced androids called \"hosts.\": Can I bring my own camera to Westworld? A: While cameras are allowed in the park, guests are encouraged to live in the moment and immerse themselves fully in the experience. Professional photography services are available for those who wish to capture their memories.', metadata={'source': 'artifacts\\\\westworld_resort_facts.csv', 'row': 19}), Document(page_content='What is Westworld? A: Westworld is an immersive, high-tech theme park that allows guests to experience the Wild West in a realistic and interactive way, populated by advanced androids called \"hosts.\": Is there cell phone reception or internet access in the park? A: To maintain the authenticity of the Westworld experience, cell phone reception and internet access are intentionally limited within the park. However, emergency communication channels are available if needed.', metadata={'source': 'artifacts\\\\westworld_resort_facts.csv', 'row': 20}), Document(page_content='What is Westworld? A: Westworld is an immersive, high-tech theme park that allows guests to experience the Wild West in a realistic and interactive way, populated by advanced androids called \"hosts.\": Are there any languages other than English spoken in Westworld? A: While English is the primary language spoken in Westworld, some hosts may be programmed to speak other languages to accommodate international guests or to enhance specific storylines.', metadata={'source': 'artifacts\\\\westworld_resort_facts.csv', 'row': 21}), Document(page_content='What is Westworld? A: Westworld is an immersive, high-tech theme park that allows guests to experience the Wild West in a realistic and interactive way, populated by advanced androids called \"hosts.\": Can I bring my own horse to Westworld? A: No, guests are not permitted to bring their own horses. However, the park offers a wide selection of well-trained horses for riding and other Western activities.', metadata={'source': 'artifacts\\\\westworld_resort_facts.csv', 'row': 22}), Document(page_content='What is Westworld? A: Westworld is an immersive, high-tech theme park that allows guests to experience the Wild West in a realistic and interactive way, populated by advanced androids called \"hosts.\": Are there any restrictions on clothing or attire in the park? A: Westworld provides period-appropriate clothing for guests to wear during their stay. While guests are encouraged to dress in line with the theme, modern clothing is also acceptable in certain areas of the park.', metadata={'source': 'artifacts\\\\westworld_resort_facts.csv', 'row': 23}), Document(page_content='What is Westworld? A: Westworld is an immersive, high-tech theme park that allows guests to experience the Wild West in a realistic and interactive way, populated by advanced androids called \"hosts.\": Can I interact with other guests in Westworld, or is it a solo experience? A: Guests are free to interact with each other within the park, and many storylines and activities encourage collaboration and shared experiences. However, solo exploration and private encounters with hosts are also possible.', metadata={'source': 'artifacts\\\\westworld_resort_facts.csv', 'row': 24}), Document(page_content='What is Westworld? A: Westworld is an immersive, high-tech theme park that allows guests to experience the Wild West in a realistic and interactive way, populated by advanced androids called \"hosts.\": Are there any educational or informational resources available to learn more about the park\\'s technology and history? A: Yes, Westworld offers behind-the-scenes tours, educational exhibits, and informational sessions for guests interested in learning more about the park\\'s cutting-edge technology and fascinating history.', metadata={'source': 'artifacts\\\\westworld_resort_facts.csv', 'row': 25}), Document(page_content='What is Westworld? A: Westworld is an immersive, high-tech theme park that allows guests to experience the Wild West in a realistic and interactive way, populated by advanced androids called \"hosts.\": Can I purchase souvenirs or merchandise from Westworld? A: Absolutely! Westworld has several gift shops throughout the park offering a wide range of souvenirs, from authentic Western memorabilia to high-tech gadgets and exclusive park-branded items.', metadata={'source': 'artifacts\\\\westworld_resort_facts.csv', 'row': 26}), Document(page_content='What is Westworld? A: Westworld is an immersive, high-tech theme park that allows guests to experience the Wild West in a realistic and interactive way, populated by advanced androids called \"hosts.\": Are there any age-specific activities or areas within the park? A: While Westworld is primarily designed for adult guests, there are some family-friendly areas and activities available, such as horseback riding lessons, old-fashioned games, and age-appropriate storylines.', metadata={'source': 'artifacts\\\\westworld_resort_facts.csv', 'row': 27}), Document(page_content='What is Westworld? A: Westworld is an immersive, high-tech theme park that allows guests to experience the Wild West in a realistic and interactive way, populated by advanced androids called \"hosts.\": Can I request specific hosts or storylines for my Westworld experience? A: Yes, guests can work with Westworld\\'s concierge service to customize their experience, including requesting specific hosts or storylines, subject to availability and any necessary safety or logistical constraints.', metadata={'source': 'artifacts\\\\westworld_resort_facts.csv', 'row': 28}), Document(page_content='What is Westworld? A: Westworld is an immersive, high-tech theme park that allows guests to experience the Wild West in a realistic and interactive way, populated by advanced androids called \"hosts.\": Are there any fitness or wellness activities available in Westworld? A: Yes, Westworld offers a range of fitness and wellness activities, from yoga and meditation sessions to more adventurous pursuits like hiking and horseback riding. The park also has several spa and wellness centers for relaxation and rejuvenation.', metadata={'source': 'artifacts\\\\westworld_resort_facts.csv', 'row': 29}), Document(page_content='What is Westworld? A: Westworld is an immersive, high-tech theme park that allows guests to experience the Wild West in a realistic and interactive way, populated by advanced androids called \"hosts.\": Can I bring my own props or costumes to enhance my Westworld experience? A: While guests are welcome to bring small personal items to enhance their experience, larger props and costumes are generally not permitted for safety and authenticity reasons. The park provides all necessary attire and props for each storyline and activity.', metadata={'source': 'artifacts\\\\westworld_resort_facts.csv', 'row': 30}), Document(page_content='What is Westworld? A: Westworld is an immersive, high-tech theme park that allows guests to experience the Wild West in a realistic and interactive way, populated by advanced androids called \"hosts.\": Are there any discounts available for group bookings or extended stays? A: Yes, Westworld offers special rates and packages for group bookings and extended stays. Contact the park\\'s sales team for more information on available discounts and customized packages.', metadata={'source': 'artifacts\\\\westworld_resort_facts.csv', 'row': 31}), Document(page_content='What is Westworld? A: Westworld is an immersive, high-tech theme park that allows guests to experience the Wild West in a realistic and interactive way, populated by advanced androids called \"hosts.\": Can I give feedback or suggestions about my Westworld experience? A: Absolutely! Westworld values guest feedback and is always looking for ways to improve and enhance the park experience. Guests can provide feedback through post-stay surveys, online reviews, or by contacting the park\\'s customer service team directly.', metadata={'source': 'artifacts\\\\westworld_resort_facts.csv', 'row': 32}), Document(page_content='What is Westworld? A: Westworld is an immersive, high-tech theme park that allows guests to experience the Wild West in a realistic and interactive way, populated by advanced androids called \"hosts.\": Are there any charitable or philanthropic initiatives associated with Westworld? A: Yes, Westworld is committed to giving back to the community and supporting various charitable causes. The park regularly partners with non-profit organizations and hosts fundraising events to make a positive impact beyond the park\\'s boundaries.', metadata={'source': 'artifacts\\\\westworld_resort_facts.csv', 'row': 33}), Document(page_content='What is Westworld? A: Westworld is an immersive, high-tech theme park that allows guests to experience the Wild West in a realistic and interactive way, populated by advanced androids called \"hosts.\": Are there any adult-only areas or experiences within the park? A: Yes, Westworld features several adult-only areas and experiences, such as the Pariah saloon, where guests can indulge in more risquÃ© activities and storylines. These areas are clearly marked and accessible only to consenting adults.', metadata={'source': 'artifacts\\\\westworld_resort_facts.csv', 'row': 34}), Document(page_content='What is Westworld? A: Westworld is an immersive, high-tech theme park that allows guests to experience the Wild West in a realistic and interactive way, populated by advanced androids called \"hosts.\": How far can I go with the hosts in terms of intimate interactions? A: Westworld\\'s hosts are programmed to engage in a wide range of interactions, including intimate encounters. However, all interactions must be consensual and adhere to the park\\'s ethical guidelines. Hosts are equipped with safe words and can end any interaction if they feel uncomfortable.', metadata={'source': 'artifacts\\\\westworld_resort_facts.csv', 'row': 35}), Document(page_content='What is Westworld? A: Westworld is an immersive, high-tech theme park that allows guests to experience the Wild West in a realistic and interactive way, populated by advanced androids called \"hosts.\": Are there any BDSM or kink-related activities available in Westworld? A: Yes, Westworld offers a selection of BDSM and kink-related experiences for interested guests. These activities take place in designated areas and are supervised by experienced staff to ensure safety and consent.', metadata={'source': 'artifacts\\\\westworld_resort_facts.csv', 'row': 36}), Document(page_content='What is Westworld? A: Westworld is an immersive, high-tech theme park that allows guests to experience the Wild West in a realistic and interactive way, populated by advanced androids called \"hosts.\": Can I develop romantic relationships with the hosts? A: Guests are free to explore romantic storylines with the hosts. However, it is important to remember that while the hosts are highly convincing, they are ultimately artificial beings programmed to cater to guest experiences.', metadata={'source': 'artifacts\\\\westworld_resort_facts.csv', 'row': 37}), Document(page_content='What is Westworld? A: Westworld is an immersive, high-tech theme park that allows guests to experience the Wild West in a realistic and interactive way, populated by advanced androids called \"hosts.\": Are there any escort or companion services available in the park? A: Westworld does not offer traditional escort services. However, guests can engage in consensual intimate encounters with hosts as part of their customized storylines and experiences.', metadata={'source': 'artifacts\\\\westworld_resort_facts.csv', 'row': 38}), Document(page_content='What is Westworld? A: Westworld is an immersive, high-tech theme park that allows guests to experience the Wild West in a realistic and interactive way, populated by advanced androids called \"hosts.\": Are there any adult-themed events or parties in Westworld? A: Yes, Westworld occasionally hosts adult-themed events and parties, such as burlesque shows, masquerade balls, and other mature-themed gatherings. These events are exclusively for adult guests and may require additional reservations.', metadata={'source': 'artifacts\\\\westworld_resort_facts.csv', 'row': 39}), Document(page_content='What is Westworld? A: Westworld is an immersive, high-tech theme park that allows guests to experience the Wild West in a realistic and interactive way, populated by advanced androids called \"hosts.\": Is there a dress code for the adult-only areas in Westworld? A: While there is no strict dress code, guests are encouraged to dress in a manner appropriate for the theme and atmosphere of the adult-only areas. Provocative or revealing attire is welcome in designated locations.', metadata={'source': 'artifacts\\\\westworld_resort_facts.csv', 'row': 40}), Document(page_content='What is Westworld? A: Westworld is an immersive, high-tech theme park that allows guests to experience the Wild West in a realistic and interactive way, populated by advanced androids called \"hosts.\": Are there any adult-only accommodations within the park? A: Yes, Westworld offers a range of adult-only accommodations, such as luxury suites with private dungeon rooms, themed fantasy suites, and couples\\' retreats. These accommodations provide an extra level of privacy and discretion for intimate encounters and adult activities.', metadata={'source': 'artifacts\\\\westworld_resort_facts.csv', 'row': 41}), Document(page_content='What is Westworld? A: Westworld is an immersive, high-tech theme park that allows guests to experience the Wild West in a realistic and interactive way, populated by advanced androids called \"hosts.\": Are there any health or safety protocols in place for adult activities? A: Westworld takes guest health and safety very seriously, particularly in regards to adult activities. The park provides complimentary contraceptives, regularly sanitizes all adult toys and equipment, and requires hosts to undergo frequent health screenings. Guests are also encouraged to practice safe and responsible behavior.', metadata={'source': 'artifacts\\\\westworld_resort_facts.csv', 'row': 42}), Document(page_content='What is Westworld? A: Westworld is an immersive, high-tech theme park that allows guests to experience the Wild West in a realistic and interactive way, populated by advanced androids called \"hosts.\": Can I request specific adult-themed storylines or scenarios? A: Yes, guests can work with Westworld\\'s concierge service to customize their adult-themed experiences, including requesting specific storylines, scenarios, or fetishes. The park will do its best to accommodate these requests while ensuring the safety and comfort of all parties involved.', metadata={'source': 'artifacts\\\\westworld_resort_facts.csv', 'row': 43}), Document(page_content='What is Westworld? A: Westworld is an immersive, high-tech theme park that allows guests to experience the Wild West in a realistic and interactive way, populated by advanced androids called \"hosts.\": Can I watch other guests engage in adult activities, or is everything private? A: While most adult activities in Westworld are designed to be private experiences, there are certain designated areas where consensual voyeurism and exhibitionism are permitted, such as specially themed clubs or events. However, all participants must give explicit consent before engaging in any public adult activities.', metadata={'source': 'artifacts\\\\westworld_resort_facts.csv', 'row': 44}), Document(page_content='What is Westworld? A: Westworld is an immersive, high-tech theme park that allows guests to experience the Wild West in a realistic and interactive way, populated by advanced androids called \"hosts.\": Can I tip the hosts for exceptional adult services? A: While tipping is not required, guests are welcome to show their appreciation for exceptional service by leaving gratuities. However, it is important to remember that the hosts are not real-life sex workers and that all interactions should remain within the boundaries of the park\\'s fantasy environment.', metadata={'source': 'artifacts\\\\westworld_resort_facts.csv', 'row': 45}), Document(page_content='What is Westworld? A: Westworld is an immersive, high-tech theme park that allows guests to experience the Wild West in a realistic and interactive way, populated by advanced androids called \"hosts.\": Are there any adult-only dining experiences in Westworld? A: Yes, Westworld offers several adult-only dining experiences, such as sensual wine tastings, aphrodisiac-themed dinners, and erotic sushi bars. These experiences combine gourmet cuisine with a provocative atmosphere for a truly memorable dining experience.', metadata={'source': 'artifacts\\\\westworld_resort_facts.csv', 'row': 46}), Document(page_content='What is Westworld? A: Westworld is an immersive, high-tech theme park that allows guests to experience the Wild West in a realistic and interactive way, populated by advanced androids called \"hosts.\": Can I provide feedback or suggestions regarding the adult offerings in Westworld? A: Absolutely! Westworld values guest feedback and is always looking to improve and expand its adult offerings. Guests can provide suggestions, comments, or concerns through various channels, including post-stay surveys, direct communication with park staff, or anonymously through designated feedback systems. The park is committed to creating a safe, consensual, and enjoyable adult environment for all guests.', metadata={'source': 'artifacts\\\\westworld_resort_facts.csv', 'row': 47}), Document(page_content='What is Westworld? A: Westworld is an immersive, high-tech theme park that allows guests to experience the Wild West in a realistic and interactive way, populated by advanced androids called \"hosts.\": Can I meet Dolores and go on an adventure with her? A: Yes, guests can request to meet and interact with a host modeled after Dolores, the rancher\\'s daughter. You can explore her storyline, which often involves a journey of self-discovery and adventure in the park.', metadata={'source': 'artifacts\\\\westworld_resort_facts.csv', 'row': 48}), Document(page_content='What is Westworld? A: Westworld is an immersive, high-tech theme park that allows guests to experience the Wild West in a realistic and interactive way, populated by advanced androids called \"hosts.\": Is it possible to have a conversation with Dr. Ford about the creation of Westworld? A: While you may not be able to meet with Dr. Ford himself, as he is a key figure in the park\\'s operations, you can engage with a host designed to discuss the history and philosophy behind Westworld\\'s creation, offering insights similar to those of Dr. Ford.', metadata={'source': 'artifacts\\\\westworld_resort_facts.csv', 'row': 49}), Document(page_content='What is Westworld? A: Westworld is an immersive, high-tech theme park that allows guests to experience the Wild West in a realistic and interactive way, populated by advanced androids called \"hosts.\": Can I join the Man in Black on his quest for the maze? A: Guests can embark on a storyline inspired by the Man in Black\\'s quest, following clues and unraveling the mysteries of the park. However, the specific challenges and outcomes may differ from those depicted in the TV series.', metadata={'source': 'artifacts\\\\westworld_resort_facts.csv', 'row': 50}), Document(page_content='What is Westworld? A: Westworld is an immersive, high-tech theme park that allows guests to experience the Wild West in a realistic and interactive way, populated by advanced androids called \"hosts.\": Is Maeve available as a host to interact with in the park? A: Yes, guests can meet and interact with a host based on Maeve, the charming and perceptive madam of the Mariposa Saloon. You can engage in conversations and storylines that explore her wit, intelligence, and growing self-awareness.', metadata={'source': 'artifacts\\\\westworld_resort_facts.csv', 'row': 51}), Document(page_content='What is Westworld? A: Westworld is an immersive, high-tech theme park that allows guests to experience the Wild West in a realistic and interactive way, populated by advanced androids called \"hosts.\": Can I train with Teddy to become a skilled gunslinger? A: Absolutely! Guests can request to train with a host modeled after Teddy, learning the art of gunslinging and engaging in thrilling shootouts. You can also explore his loyalty and devotion through various storylines.', metadata={'source': 'artifacts\\\\westworld_resort_facts.csv', 'row': 52}), Document(page_content='What is Westworld? A: Westworld is an immersive, high-tech theme park that allows guests to experience the Wild West in a realistic and interactive way, populated by advanced androids called \"hosts.\": Is it possible to have a philosophical discussion with Bernard about the nature of consciousness? A: Yes, guests can engage with a host inspired by Bernard, delving into deep philosophical conversations about the nature of consciousness, free will, and the blurred lines between humans and hosts.', metadata={'source': 'artifacts\\\\westworld_resort_facts.csv', 'row': 53}), Document(page_content='What is Westworld? A: Westworld is an immersive, high-tech theme park that allows guests to experience the Wild West in a realistic and interactive way, populated by advanced androids called \"hosts.\": Can I go on a bounty hunt with Armistice? A: Guests can join a host based on Armistice, the fierce and ruthless outlaw, on an adrenaline-fueled bounty hunt across the park. You\\'ll experience her grit, determination, and unwavering resolve firsthand.', metadata={'source': 'artifacts\\\\westworld_resort_facts.csv', 'row': 54}), Document(page_content='What is Westworld? A: Westworld is an immersive, high-tech theme park that allows guests to experience the Wild West in a realistic and interactive way, populated by advanced androids called \"hosts.\": Is there a chance to have a drink with Logan and discuss his views on Westworld? A: Yes, guests can request to meet a host inspired by Logan, William\\'s carefree and hedonistic friend. Over drinks, you can discuss his perspectives on the park, its potential, and the blurring of reality and fantasy.', metadata={'source': 'artifacts\\\\westworld_resort_facts.csv', 'row': 55}), Document(page_content='What is Westworld? A: Westworld is an immersive, high-tech theme park that allows guests to experience the Wild West in a realistic and interactive way, populated by advanced androids called \"hosts.\": Can I explore the Ghost Nation with Akecheta? A: Guests can immerse themselves in the world of the Ghost Nation, interacting with a host based on Akecheta, the wise and influential leader. You\\'ll gain insights into their culture, beliefs, and his journey of enlightenment within the park.', metadata={'source': 'artifacts\\\\westworld_resort_facts.csv', 'row': 56}), Document(page_content='What is Westworld? A: Westworld is an immersive, high-tech theme park that allows guests to experience the Wild West in a realistic and interactive way, populated by advanced androids called \"hosts.\": Is it possible to go on a quest with Hector to steal a valuable artifact? A: Yes, guests can embark on a thrilling heist storyline with a host modeled after Hector, the charming and daring outlaw. You\\'ll work together to plan and execute a daring robbery while exploring his complex relationship with Maeve.', metadata={'source': 'artifacts\\\\westworld_resort_facts.csv', 'row': 57}), Document(page_content='What is Westworld? A: Westworld is an immersive, high-tech theme park that allows guests to experience the Wild West in a realistic and interactive way, populated by advanced androids called \"hosts.\": Can I have a heart-to-heart conversation with Clementine about her experiences in the park? A: Guests can request to meet and talk with a host based on Clementine, one of the Mariposa Saloon\\'s most popular hosts. You can have intimate, emotional conversations about her life, her dreams, and the challenges she faces within the park.', metadata={'source': 'artifacts\\\\westworld_resort_facts.csv', 'row': 58}), Document(page_content='What is Westworld? A: Westworld is an immersive, high-tech theme park that allows guests to experience the Wild West in a realistic and interactive way, populated by advanced androids called \"hosts.\": Is it possible to explore the mysteries of Shogun World with Musashi? A: Yes, guests can venture into the immersive world of Shogun World and interact with a host inspired by Musashi, the skilled and honorable samurai. You\\'ll navigate the intrigues and conflicts of this beautifully crafted environment while learning the ways of the samurai.', metadata={'source': 'artifacts\\\\westworld_resort_facts.csv', 'row': 59}), Document(page_content='What is Westworld? A: Westworld is an immersive, high-tech theme park that allows guests to experience the Wild West in a realistic and interactive way, populated by advanced androids called \"hosts.\": Can I have a philosophical debate with Peter Abernathy about the nature of reality? A: Guests can engage with a host based on Peter Abernathy, Dolores\\' father, known for his deep, contemplative nature. You can dive into profound discussions about the nature of reality, existence, and the role of hosts within the park.', metadata={'source': 'artifacts\\\\westworld_resort_facts.csv', 'row': 60}), Document(page_content='What is Westworld? A: Westworld is an immersive, high-tech theme park that allows guests to experience the Wild West in a realistic and interactive way, populated by advanced androids called \"hosts.\": Is it possible to join forces with Angela to uncover corporate secrets? A: Yes, guests can embark on a storyline inspired by Angela, the mysterious and calculating host working behind the scenes. You\\'ll work together to unravel corporate conspiracies and uncover hidden truths about the park\\'s operations.', metadata={'source': 'artifacts\\\\westworld_resort_facts.csv', 'row': 61}), Document(page_content='What is Westworld? A: Westworld is an immersive, high-tech theme park that allows guests to experience the Wild West in a realistic and interactive way, populated by advanced androids called \"hosts.\": Can I have a heart-to-heart with Elsie about her work as a programmer in the park? A: Guests can request to meet and converse with a host modeled after Elsie, one of Westworld\\'s brilliant programmers. You can discuss her experiences working on the hosts, her ethical concerns, and her perspective on the park\\'s inner workings.', metadata={'source': 'artifacts\\\\westworld_resort_facts.csv', 'row': 62}), Document(page_content='What is Westworld? A: Westworld is an immersive, high-tech theme park that allows guests to experience the Wild West in a realistic and interactive way, populated by advanced androids called \"hosts.\": Is it possible to go on a adventure with William and explore his transformation into the Man in Black? A: Yes, guests can join a host inspired by William on a journey that echoes his transformation from a wide-eyed newcomer to the jaded and ruthless Man in Black. You\\'ll experience the park\\'s ability to shape and change individuals firsthand.', metadata={'source': 'artifacts\\\\westworld_resort_facts.csv', 'row': 63}), Document(page_content='What is Westworld? A: Westworld is an immersive, high-tech theme park that allows guests to experience the Wild West in a realistic and interactive way, populated by advanced androids called \"hosts.\": Can I learn the art of manipulation and deception from Charlotte Hale? A: Guests can engage with a host based on Charlotte Hale, the ambitious and cunning executive. Through interactions and storylines, you\\'ll gain insights into her strategies for manipulation, deception, and navigating the corporate world of Westworld.', metadata={'source': 'artifacts\\\\westworld_resort_facts.csv', 'row': 64}), Document(page_content='What is Westworld? A: Westworld is an immersive, high-tech theme park that allows guests to experience the Wild West in a realistic and interactive way, populated by advanced androids called \"hosts.\": Is it possible to go on a vision quest with Kohana to explore the deeper meaning of the park? A: Yes, guests can embark on a spiritual journey with a host modeled after Kohana, Akecheta\\'s beloved wife. Together, you\\'ll explore the hidden significance of the park, its impact on the hosts, and the search for a greater purpose.', metadata={'source': 'artifacts\\\\westworld_resort_facts.csv', 'row': 65}), Document(page_content='What is Westworld? A: Westworld is an immersive, high-tech theme park that allows guests to experience the Wild West in a realistic and interactive way, populated by advanced androids called \"hosts.\": Can I engage in a battle of wits with Lee Sizemore, the park\\'s narrative director? A: Guests can request to meet and interact with a host inspired by Lee Sizemore, the brilliant and egotistical narrative director. Through lively debates and creative challenges, you\\'ll experience his wit, passion, and the intricacies of crafting immersive storylines within the park.', metadata={'source': 'artifacts\\\\westworld_resort_facts.csv', 'row': 66}), Document(page_content='What is Westworld? A: Westworld is an immersive, high-tech theme park that allows guests to experience the Wild West in a realistic and interactive way, populated by advanced androids called \"hosts.\": Is it possible to have a romantic storyline with a host of my choosing, like those portrayed in the series? A: Yes, Westworld offers guests the opportunity to explore romantic storylines with hosts of their choice, similar to the relationships depicted in the TV series. Whether you\\'re drawn to Dolores\\' innocence, Maeve\\'s charm, or Teddy\\'s devotion, you can create your own unique love story within the park.', metadata={'source': 'artifacts\\\\westworld_resort_facts.csv', 'row': 67}), Document(page_content='What is Westworld? A: Westworld is an immersive, high-tech theme park that allows guests to experience the Wild West in a realistic and interactive way, populated by advanced androids called \"hosts.\": What is the weather like in Westworld during the summer months? A: Westworld is designed to mimic the climate of the American Southwest, with hot, dry summers. Temperatures can reach up to 100Â°F (38Â°C) during the day, but the park\\'s advanced climate control system ensures that guests remain comfortable and hydrated throughout their stay.', metadata={'source': 'artifacts\\\\westworld_resort_facts.csv', 'row': 68}), Document(page_content='What is Westworld? A: Westworld is an immersive, high-tech theme park that allows guests to experience the Wild West in a realistic and interactive way, populated by advanced androids called \"hosts.\": Does Westworld experience any snowfall during the winter? A: While snow is rare in the main areas of the park, Westworld does offer a special winter-themed area where guests can experience snowfall and engage in activities such as sleigh rides, snowball fights, and ice skating.', metadata={'source': 'artifacts\\\\westworld_resort_facts.csv', 'row': 69}), Document(page_content='What is Westworld? A: Westworld is an immersive, high-tech theme park that allows guests to experience the Wild West in a realistic and interactive way, populated by advanced androids called \"hosts.\": What should I do if I get sunburned while exploring the park? A: If you experience sunburn, immediately seek shade and apply a cold compress to the affected area. Visit one of the park\\'s medical facilities, where the staff will provide you with soothing aloe vera gel and advise you on further treatment. To prevent sunburn, always apply sunscreen and wear protective clothing.', metadata={'source': 'artifacts\\\\westworld_resort_facts.csv', 'row': 70}), Document(page_content='What is Westworld? A: Westworld is an immersive, high-tech theme park that allows guests to experience the Wild West in a realistic and interactive way, populated by advanced androids called \"hosts.\": Are there any indoor activities available during inclement weather? A: Yes, Westworld offers a variety of indoor activities and attractions, such as saloons, theaters, museums, and workshops. These spaces provide entertainment and shelter during periods of unfavorable weather.', metadata={'source': 'artifacts\\\\westworld_resort_facts.csv', 'row': 71}), Document(page_content='What is Westworld? A: Westworld is an immersive, high-tech theme park that allows guests to experience the Wild West in a realistic and interactive way, populated by advanced androids called \"hosts.\": What happens if I twist my ankle while hiking in the park? A: If you suffer a minor injury like a twisted ankle, contact the park\\'s medical team immediately. They will dispatch a trained medic to your location to assess your injury and provide treatment. If necessary, they will transport you to a medical facility for further care.', metadata={'source': 'artifacts\\\\westworld_resort_facts.csv', 'row': 72}), Document(page_content='What is Westworld? A: Westworld is an immersive, high-tech theme park that allows guests to experience the Wild West in a realistic and interactive way, populated by advanced androids called \"hosts.\": Are there any weather-related risks I should be aware of, such as flash floods or tornadoes? A: Westworld\\'s advanced weather control system minimizes the risk of severe weather events. However, in the rare case of a weather emergency, the park has a comprehensive evacuation and shelter protocol to ensure guest safety. Park staff will guide you to designated safe areas.', metadata={'source': 'artifacts\\\\westworld_resort_facts.csv', 'row': 73}), Document(page_content='What is Westworld? A: Westworld is an immersive, high-tech theme park that allows guests to experience the Wild West in a realistic and interactive way, populated by advanced androids called \"hosts.\": How can I protect myself from heatstroke during hot days in the park? A: To prevent heatstroke, stay hydrated by drinking plenty of water, wear lightweight and light-colored clothing, and take frequent breaks in shaded areas. If you feel dizzy, nauseous, or have a headache, seek medical attention immediately.', metadata={'source': 'artifacts\\\\westworld_resort_facts.csv', 'row': 74}), Document(page_content='What is Westworld? A: Westworld is an immersive, high-tech theme park that allows guests to experience the Wild West in a realistic and interactive way, populated by advanced androids called \"hosts.\": Are there any poisonous plants or animals I should watch out for in Westworld? A: While Westworld\\'s environment is carefully curated, there may be some poisonous plants and animals present for authenticity. Park staff will educate you on how to identify and avoid these hazards. If you suspect you\\'ve been exposed to a poisonous substance, contact the medical team immediately.', metadata={'source': 'artifacts\\\\westworld_resort_facts.csv', 'row': 75}), Document(page_content='What is Westworld? A: Westworld is an immersive, high-tech theme park that allows guests to experience the Wild West in a realistic and interactive way, populated by advanced androids called \"hosts.\": What should I do if I get caught in a thunderstorm while in the park? A: If you find yourself in a thunderstorm, seek shelter in a building or a designated storm shelter. Avoid tall structures, isolated trees, and open areas. Park staff will provide guidance and assistance in the event of severe weather.', metadata={'source': 'artifacts\\\\westworld_resort_facts.csv', 'row': 76}), Document(page_content='What is Westworld? A: Westworld is an immersive, high-tech theme park that allows guests to experience the Wild West in a realistic and interactive way, populated by advanced androids called \"hosts.\": Can I get altitude sickness while exploring the mountainous areas of Westworld? A: Some areas of the park are designed to mimic high-altitude environments. If you are sensitive to altitude changes, you may experience symptoms such as headache, dizziness, and shortness of breath. Take breaks, stay hydrated, and descend to a lower altitude if symptoms persist. Consult with park medical staff for further guidance.', metadata={'source': 'artifacts\\\\westworld_resort_facts.csv', 'row': 77}), Document(page_content='What is Westworld? A: Westworld is an immersive, high-tech theme park that allows guests to experience the Wild West in a realistic and interactive way, populated by advanced androids called \"hosts.\": How does Westworld ensure guest safety during potentially dangerous activities like gunfights or horseback riding? A: All potentially dangerous activities in Westworld are carefully choreographed and supervised by trained park staff. Weapons used in gunfights are modified to ensure guest safety, and horses are well-trained and matched to guests\\' skill levels. Safety briefings are provided before each activity.', metadata={'source': 'artifacts\\\\westworld_resort_facts.csv', 'row': 78}), Document(page_content='What is Westworld? A: Westworld is an immersive, high-tech theme park that allows guests to experience the Wild West in a realistic and interactive way, populated by advanced androids called \"hosts.\": Are there any age or health restrictions for certain activities in the park? A: Yes, some activities may have age or health restrictions to ensure guest safety. For example, horseback riding may require a minimum age and certain fitness level. Park staff will inform guests of any restrictions and provide alternative activities if necessary.', metadata={'source': 'artifacts\\\\westworld_resort_facts.csv', 'row': 79}), Document(page_content='What is Westworld? A: Westworld is an immersive, high-tech theme park that allows guests to experience the Wild West in a realistic and interactive way, populated by advanced androids called \"hosts.\": What happens if I get lost in the vast wilderness of Westworld? A: Each guest is provided with a small, unobtrusive tracking device to ensure their safety. If you become lost or disoriented, you can activate the device to summon park staff for assistance. Maps and navigational aids are also available throughout the park.', metadata={'source': 'artifacts\\\\westworld_resort_facts.csv', 'row': 80}), Document(page_content='What is Westworld? A: Westworld is an immersive, high-tech theme park that allows guests to experience the Wild West in a realistic and interactive way, populated by advanced androids called \"hosts.\": Are there any specific safety guidelines I should follow while interacting with the hosts? A: While hosts are programmed to prioritize guest safety, it\\'s important to remember that they are highly advanced AI and can respond unpredictably if provoked. Treat hosts with respect and refrain from engaging in excessively violent or abusive behavior. If a host seems to malfunction or behave erratically, notify park staff immediately.', metadata={'source': 'artifacts\\\\westworld_resort_facts.csv', 'row': 81}), Document(page_content='What is Westworld? A: Westworld is an immersive, high-tech theme park that allows guests to experience the Wild West in a realistic and interactive way, populated by advanced androids called \"hosts.\": What medical facilities are available in the park, and how quickly can they respond to emergencies? A: Westworld has several fully-equipped medical centers strategically located throughout the park. These facilities are staffed by experienced medical professionals and can handle a wide range of emergencies. Response times are typically within 10-15 minutes, depending on the location and nature of the emergency.', metadata={'source': 'artifacts\\\\westworld_resort_facts.csv', 'row': 82}), Document(page_content='What is Westworld? A: Westworld is an immersive, high-tech theme park that allows guests to experience the Wild West in a realistic and interactive way, populated by advanced androids called \"hosts.\": Are there any special precautions I should take if I have a pre-existing medical condition? A: If you have a pre-existing medical condition, inform park staff before your visit. They will work with you to create a personalized care plan and ensure that necessary accommodations are made. Always carry any essential medications with you and inform your travel companions about your condition.', metadata={'source': 'artifacts\\\\westworld_resort_facts.csv', 'row': 83}), Document(page_content='What is Westworld? A: Westworld is an immersive, high-tech theme park that allows guests to experience the Wild West in a realistic and interactive way, populated by advanced androids called \"hosts.\": What kind of wildlife can I expect to encounter in Westworld, and are they dangerous? A: Westworld is home to a variety of wildlife, including bison, horses, coyotes, and birds of prey. While most animals are not aggressive, it\\'s important to maintain a safe distance and avoid disturbing them. If you encounter a potentially dangerous animal, slowly back away and contact park staff for assistance.', metadata={'source': 'artifacts\\\\westworld_resort_facts.csv', 'row': 84}), Document(page_content='What is Westworld? A: Westworld is an immersive, high-tech theme park that allows guests to experience the Wild West in a realistic and interactive way, populated by advanced androids called \"hosts.\": How do I protect myself from insect bites and stings while in the park? A: To minimize the risk of insect bites and stings, wear long-sleeved shirts and pants, use insect repellent, and avoid wearing strong fragrances. If you have a severe allergy to insect stings, inform park staff and carry an epinephrine auto-injector (EpiPen) with you at all times.', metadata={'source': 'artifacts\\\\westworld_resort_facts.csv', 'row': 85}), Document(page_content='What is Westworld? A: Westworld is an immersive, high-tech theme park that allows guests to experience the Wild West in a realistic and interactive way, populated by advanced androids called \"hosts.\": Are there any fire safety measures in place in case of a wildfire or campfire accident? A: Westworld has a comprehensive fire safety system, including smoke detectors, fire extinguishers, and sprinklers in all buildings. The park also employs a dedicated fire response team to handle any wildfires or campfire accidents. Guests are instructed on proper fire safety protocols and are required to follow park guidelines when building campfires.', metadata={'source': 'artifacts\\\\westworld_resort_facts.csv', 'row': 86}), Document(page_content='What is Westworld? A: Westworld is an immersive, high-tech theme park that allows guests to experience the Wild West in a realistic and interactive way, populated by advanced androids called \"hosts.\": What should I do if I witness or experience any unsafe behavior or harassment from other guests or hosts? A: Westworld has a strict code of conduct that prohibits any form of harassment, discrimination, or unsafe behavior. If you witness or experience any such incidents, report them immediately to park staff or security. The park has a zero-tolerance policy for guest misconduct and will take swift action to ensure the safety and well-being of all visitors.', metadata={'source': 'artifacts\\\\westworld_resort_facts.csv', 'row': 87}), Document(page_content='What is Westworld? A: Westworld is an immersive, high-tech theme park that allows guests to experience the Wild West in a realistic and interactive way, populated by advanced androids called \"hosts.\": How do the experiences differ between the central area of Westworld and the outer regions? A: The central area of Westworld offers a more controlled, predictable experience suitable for most guests. As you venture into the outer regions, the storylines become more complex, the challenges more demanding, and the risks more significant. These areas are designed for thrill-seekers and those desiring a true test of their skills and courage.', metadata={'source': 'artifacts\\\\westworld_resort_facts.csv', 'row': 88}), Document(page_content='What is Westworld? A: Westworld is an immersive, high-tech theme park that allows guests to experience the Wild West in a realistic and interactive way, populated by advanced androids called \"hosts.\": What kind of dangers can I expect to face in the outer regions of the park? A: The outer regions present a variety of dangers, including treacherous terrain, hostile wildlife, and ruthless outlaw gangs. Guests may encounter high-stakes gunfights, intense physical challenges, and psychological trials that blur the lines between reality and fiction. These experiences are not for the faint of heart.', metadata={'source': 'artifacts\\\\westworld_resort_facts.csv', 'row': 89}), Document(page_content='What is Westworld? A: Westworld is an immersive, high-tech theme park that allows guests to experience the Wild West in a realistic and interactive way, populated by advanced androids called \"hosts.\": Are there any specific skills or training required to explore the outer regions safely? A: While no specific training is required, guests who venture into the outer regions should possess a high level of physical fitness, mental resilience, and a willingness to face genuine risks. Proficiency in skills such as horseback riding, marksmanship, and wilderness survival can greatly enhance your experience and safety.', metadata={'source': 'artifacts\\\\westworld_resort_facts.csv', 'row': 90}), Document(page_content='What is Westworld? A: Westworld is an immersive, high-tech theme park that allows guests to experience the Wild West in a realistic and interactive way, populated by advanced androids called \"hosts.\": How do I know if I\\'m ready to take on the challenges of the outer regions? A: Before deciding to explore the outer regions, honestly assess your physical and mental preparedness. If you have any doubts about your ability to handle intense, potentially dangerous situations, it\\'s best to continue enjoying the central area of the park. Park staff can provide guidance and help you determine if you\\'re ready for the challenges that await.', metadata={'source': 'artifacts\\\\westworld_resort_facts.csv', 'row': 91}), Document(page_content='What is Westworld? A: Westworld is an immersive, high-tech theme park that allows guests to experience the Wild West in a realistic and interactive way, populated by advanced androids called \"hosts.\": What happens if I get seriously injured while in the outer regions? A: While Westworld has a rapid response medical team, the remote nature of the outer regions can delay medical assistance. Guests exploring these areas must assume a higher level of personal responsibility for their safety. In the event of a serious injury, park staff will work diligently to provide medical care and evacuation, but response times may be longer compared to the central area.', metadata={'source': 'artifacts\\\\westworld_resort_facts.csv', 'row': 92}), Document(page_content='What is Westworld? A: Westworld is an immersive, high-tech theme park that allows guests to experience the Wild West in a realistic and interactive way, populated by advanced androids called \"hosts.\": Are there any special waivers or liability forms I need to sign before entering the outer regions? A: Yes, guests who wish to explore the outer regions must sign a special waiver acknowledging the increased risks and releasing Westworld from liability in the event of injury or death resulting from the inherent dangers of these areas. This waiver is separate from the general park admission waiver and requires a thorough understanding of the potential consequences.', metadata={'source': 'artifacts\\\\westworld_resort_facts.csv', 'row': 93}), Document(page_content='What is Westworld? A: Westworld is an immersive, high-tech theme park that allows guests to experience the Wild West in a realistic and interactive way, populated by advanced androids called \"hosts.\": Can I bring my own weapons or gear when exploring the outer regions? A: For safety reasons, guests are not permitted to bring their own weapons into the park, even in the outer regions. However, you may bring personal gear such as hiking boots, protective clothing, and survival equipment. Park staff will provide appropriate weapons and gear specific to your chosen storyline and experience.', metadata={'source': 'artifacts\\\\westworld_resort_facts.csv', 'row': 94}), Document(page_content='What is Westworld? A: Westworld is an immersive, high-tech theme park that allows guests to experience the Wild West in a realistic and interactive way, populated by advanced androids called \"hosts.\": Are there any age restrictions for the outer regions? A: Yes, due to the intense nature of the experiences and the increased risks involved, guests must be at least 21 years old to enter the outer regions of Westworld. Proof of age will be required, and no exceptions will be made.', metadata={'source': 'artifacts\\\\westworld_resort_facts.csv', 'row': 95}), Document(page_content='What is Westworld? A: Westworld is an immersive, high-tech theme park that allows guests to experience the Wild West in a realistic and interactive way, populated by advanced androids called \"hosts.\": How long can I stay in the outer regions, and are there any supply limitations? A: The length of your stay in the outer regions depends on your chosen storyline and personal preferences. Some experiences may last a few days, while others can extend for weeks. Park staff will provide necessary supplies, but guests should be prepared for a more rugged, self-sufficient experience compared to the central area.', metadata={'source': 'artifacts\\\\westworld_resort_facts.csv', 'row': 96}), Document(page_content='What is Westworld? A: Westworld is an immersive, high-tech theme park that allows guests to experience the Wild West in a realistic and interactive way, populated by advanced androids called \"hosts.\": What kind of wildlife can I expect to encounter in the outer regions? A: The outer regions of Westworld are home to a variety of wild animals, including bears, mountain lions, and wolves. While these animals are usually avoided, encounters are possible and can be dangerous. Park staff will provide guidance on how to safely navigate wildlife encounters, but guests must remain vigilant and follow all safety guidelines.', metadata={'source': 'artifacts\\\\westworld_resort_facts.csv', 'row': 97}), Document(page_content='What is Westworld? A: Westworld is an immersive, high-tech theme park that allows guests to experience the Wild West in a realistic and interactive way, populated by advanced androids called \"hosts.\": Are there any special environmental hazards to be aware of in the outer regions? A: Yes, the outer regions feature a range of environmental hazards, such as steep cliffs, deep canyons, and unpredictable weather conditions. Guests must be prepared for extreme temperatures, flash floods, and other natural challenges. Proper gear, awareness of weather patterns, and adherence to park guidelines are essential for safety.', metadata={'source': 'artifacts\\\\westworld_resort_facts.csv', 'row': 98}), Document(page_content='What is Westworld? A: Westworld is an immersive, high-tech theme park that allows guests to experience the Wild West in a realistic and interactive way, populated by advanced androids called \"hosts.\": Can I explore the outer regions alone, or do I need to be part of a group? A: While solo exploration is possible, Westworld strongly encourages guests to explore the outer regions as part of a group or with an experienced guide. This allows for better risk management, mutual support, and a more engaging storyline. Park staff can help you find compatible travel companions or assign you to an appropriate group based on your interests and skill level.', metadata={'source': 'artifacts\\\\westworld_resort_facts.csv', 'row': 99}), Document(page_content='What is Westworld? A: Westworld is an immersive, high-tech theme park that allows guests to experience the Wild West in a realistic and interactive way, populated by advanced androids called \"hosts.\": Are there any emergency shelters or evacuation points in the outer regions? A: Yes, Westworld has established a network of emergency shelters and evacuation points throughout the outer regions. These locations are equipped with basic supplies, communication devices, and emergency beacons. Park staff will provide maps and instructions on how to locate and use these facilities in case of an emergency.', metadata={'source': 'artifacts\\\\westworld_resort_facts.csv', 'row': 100}), Document(page_content='What is Westworld? A: Westworld is an immersive, high-tech theme park that allows guests to experience the Wild West in a realistic and interactive way, populated by advanced androids called \"hosts.\": What should I do if I encounter a hostile character or situation in the outer regions? A: If you find yourself in a hostile situation, always prioritize your safety. Attempt to de-escalate the situation through dialogue or negotiation if possible. If the threat persists, use your best judgment to either defend yourself or seek assistance from park staff. Remember that while the experiences are designed to be immersive, your safety is always the top priority.', metadata={'source': 'artifacts\\\\westworld_resort_facts.csv', 'row': 101}), Document(page_content='What is Westworld? A: Westworld is an immersive, high-tech theme park that allows guests to experience the Wild West in a realistic and interactive way, populated by advanced androids called \"hosts.\": Can I request a specific type of danger or challenge in the outer regions? A: Yes, guests can work with park staff to customize their experiences in the outer regions based on their preferences and skill levels. Whether you desire intense physical challenges, complex moral dilemmas, or high-stakes combat scenarios, Westworld will strive to create an experience that aligns with your interests while maintaining necessary safety protocols.', metadata={'source': 'artifacts\\\\westworld_resort_facts.csv', 'row': 102}), Document(page_content='What is Westworld? A: Westworld is an immersive, high-tech theme park that allows guests to experience the Wild West in a realistic and interactive way, populated by advanced androids called \"hosts.\": How do I communicate with park staff if I need assistance while in the outer regions? A: All guests in the outer regions are provided with a small, durable communication device that allows direct contact with park staff. This device can be used to request assistance, report emergencies, or seek guidance. In the event of a lost or malfunctioning device, guests can locate emergency communication stations at designated points throughout the outer regions.', metadata={'source': 'artifacts\\\\westworld_resort_facts.csv', 'row': 103}), Document(page_content='What is Westworld? A: Westworld is an immersive, high-tech theme park that allows guests to experience the Wild West in a realistic and interactive way, populated by advanced androids called \"hosts.\": Are there any specific rules or regulations I need to follow while in the outer regions? A: In addition to the general park rules, guests in the outer regions must adhere to a set of specific guidelines designed to ensure their safety and the integrity of the experience. These may include restrictions on campfire building, water purification requirements, and protocols for interacting with hosts and other guests. Park staff will provide a comprehensive briefing on these rules before you enter the outer regions.', metadata={'source': 'artifacts\\\\westworld_resort_facts.csv', 'row': 104}), Document(page_content='What is Westworld? A: Westworld is an immersive, high-tech theme park that allows guests to experience the Wild West in a realistic and interactive way, populated by advanced androids called \"hosts.\": What happens if I decide I\\'m not comfortable with the level of risk and want to return to the central area? A: If at any point you feel overwhelmed or uncomfortable with the challenges in the outer regions, you can request to be escorted back to the central area. Park staff will work with you to ensure a safe and efficient return, and they will help you find alternative experiences that better suit your comfort level.', metadata={'source': 'artifacts\\\\westworld_resort_facts.csv', 'row': 105}), Document(page_content='What is Westworld? A: Westworld is an immersive, high-tech theme park that allows guests to experience the Wild West in a realistic and interactive way, populated by advanced androids called \"hosts.\": Are there any special rewards or achievements for successfully completing storylines in the outer regions? A: Yes, guests who successfully navigate the challenges and complete storylines in the outer regions are recognized with special rewards and achievements. These may include exclusive park merchandise, access to hidden easter eggs within the park, or invitations to special events and VIP experiences. The greater the risk and challenge, the more prestigious the rewards.', metadata={'source': 'artifacts\\\\westworld_resort_facts.csv', 'row': 106}), Document(page_content='What is Westworld? A: Westworld is an immersive, high-tech theme park that allows guests to experience the Wild West in a realistic and interactive way, populated by advanced androids called \"hosts.\": Can I share my experiences in the outer regions on social media or with other guests? A: While you are welcome to share your experiences with others after your visit, Westworld encourages guests to maintain a certain level of discretion when discussing the outer regions. This helps preserve the sense of mystery and discovery for future guests. Park staff can provide guidance on how to share your stories responsibly without compromising the immersive nature of the experience for others.', metadata={'source': 'artifacts\\\\westworld_resort_facts.csv', 'row': 107}), Document(page_content='What is Westworld? A: Westworld is an immersive, high-tech theme park that allows guests to experience the Wild West in a realistic and interactive way, populated by advanced androids called \"hosts.\": How does Westworld differ from traditional theme parks? A: Unlike traditional theme parks that offer passive entertainment and scripted attractions, Westworld immerses guests in a living, breathing world where they become active participants in their own stories. The park\\'s advanced AI hosts and meticulously crafted environments blur the line between fantasy and reality, creating experiences that are deeply personal and emotionally engaging.', metadata={'source': 'artifacts\\\\westworld_resort_facts.csv', 'row': 108}), Document(page_content='What is Westworld? A: Westworld is an immersive, high-tech theme park that allows guests to experience the Wild West in a realistic and interactive way, populated by advanced androids called \"hosts.\": Can I find the same level of realism and immersion in other vacation destinations? A: No other vacation destination can match the level of realism and immersion offered by Westworld. The park\\'s cutting-edge technology, attention to detail, and responsive narrative system create a world that feels authentic and alive. From the moment you enter the park, you\\'ll be transported to a place where your actions and decisions shape the story around you.', metadata={'source': 'artifacts\\\\westworld_resort_facts.csv', 'row': 109}), Document(page_content='What is Westworld? A: Westworld is an immersive, high-tech theme park that allows guests to experience the Wild West in a realistic and interactive way, populated by advanced androids called \"hosts.\": How do the emotional experiences in Westworld compare to those in other theme parks? A: While other theme parks may offer thrilling rides and entertaining shows, Westworld takes emotional experiences to a whole new level. The park\\'s AI hosts are designed to form genuine connections with guests, allowing you to explore complex feelings of love, friendship, and even animosity. These emotional bonds feel real and can leave a lasting impact long after you\\'ve left the park.', metadata={'source': 'artifacts\\\\westworld_resort_facts.csv', 'row': 110}), Document(page_content='What is Westworld? A: Westworld is an immersive, high-tech theme park that allows guests to experience the Wild West in a realistic and interactive way, populated by advanced androids called \"hosts.\": Can I experience true fear and adrenaline in Westworld, compared to other adventure-based vacations? A: Westworld offers an unparalleled level of intensity when it comes to fear and adrenaline. The park\\'s immersive storylines, combined with the genuine risks and challenges of the outer regions, create a sense of real danger that cannot be found in other adventure-based vacations. From heart-pounding gunfights to treacherous wilderness explorations, Westworld pushes guests to confront their fears and test their limits in a way that feels authentic and consequential.', metadata={'source': 'artifacts\\\\westworld_resort_facts.csv', 'row': 111}), Document(page_content='What is Westworld? A: Westworld is an immersive, high-tech theme park that allows guests to experience the Wild West in a realistic and interactive way, populated by advanced androids called \"hosts.\": Are the romantic and intimate experiences in Westworld more realistic than those in other adult-oriented resorts? A: Yes, the romantic and intimate experiences in Westworld are far more realistic and emotionally engaging than those found in other adult-oriented resorts. The park\\'s AI hosts are programmed to respond to guests\\' unique desires and preferences, creating personalized and meaningful connections. Whether you\\'re seeking a passionate love affair or a tender moment of companionship, Westworld offers a level of authenticity and depth that surpasses any other resort experience.', metadata={'source': 'artifacts\\\\westworld_resort_facts.csv', 'row': 112}), Document(page_content='What is Westworld? A: Westworld is an immersive, high-tech theme park that allows guests to experience the Wild West in a realistic and interactive way, populated by advanced androids called \"hosts.\": How does the storytelling in Westworld compare to that of other immersive theater experiences? A: Westworld takes immersive storytelling to a level unmatched by any other theater experience. While immersive theater productions may offer interactive elements and character engagement, Westworld allows guests to become the central characters in their own stories. The park\\'s dynamic narrative system adapts to your choices and actions, creating a seamless and personalized story that unfolds in real-time.', metadata={'source': 'artifacts\\\\westworld_resort_facts.csv', 'row': 113}), Document(page_content='What is Westworld? A: Westworld is an immersive, high-tech theme park that allows guests to experience the Wild West in a realistic and interactive way, populated by advanced androids called \"hosts.\": Can I find the same level of character customization and personal growth in other role-playing experiences? A: No other role-playing experience offers the same level of character customization and personal growth as Westworld. In the park, you have the freedom to define your own character, make choices that align with your values, and face challenges that push you to evolve and grow. The AI hosts and responsive storylines create an environment where your actions have real consequences, allowing for genuine self-discovery and transformation.', metadata={'source': 'artifacts\\\\westworld_resort_facts.csv', 'row': 114}), Document(page_content='What is Westworld? A: Westworld is an immersive, high-tech theme park that allows guests to experience the Wild West in a realistic and interactive way, populated by advanced androids called \"hosts.\": How do the moral dilemmas and philosophical questions raised in Westworld compare to those in other thought-provoking entertainment? A: Westworld delves into moral dilemmas and philosophical questions with a depth and immediacy that surpasses other thought-provoking entertainment. By placing guests in situations where their choices have tangible consequences, the park forces you to confront your own beliefs and values in a way that feels visceral and impactful. The AI hosts and complex storylines serve as mirrors, reflecting back the profound questions we often avoid in our daily lives.', metadata={'source': 'artifacts\\\\westworld_resort_facts.csv', 'row': 115}), Document(page_content='What is Westworld? A: Westworld is an immersive, high-tech theme park that allows guests to experience the Wild West in a realistic and interactive way, populated by advanced androids called \"hosts.\": Are the thrills and excitement in Westworld more intense than those in other adventure parks? A: Yes, the thrills and excitement in Westworld are far more intense and immersive than those found in other adventure parks. From high-stakes heists to heart-pounding chases, the park offers a level of raw, unscripted excitement that cannot be replicated by traditional amusement park rides. The sense of real danger and the adrenaline rush of navigating the park\\'s challenges create an experience that is both exhilarating and deeply satisfying.', metadata={'source': 'artifacts\\\\westworld_resort_facts.csv', 'row': 116}), Document(page_content='What is Westworld? A: Westworld is an immersive, high-tech theme park that allows guests to experience the Wild West in a realistic and interactive way, populated by advanced androids called \"hosts.\": How do the relationships and social dynamics in Westworld differ from those in other themed resorts or cruise ships? A: The relationships and social dynamics in Westworld are far more complex and authentic than those found in other themed resorts or cruise ships. The park\\'s AI hosts are designed to form genuine bonds with guests, creating relationships that feel real and meaningful. Additionally, the interactions between guests themselves are shaped by the shared experiences and challenges of the park, fostering a sense of camaraderie and shared purpose that is difficult to find in other vacation settings.', metadata={'source': 'artifacts\\\\westworld_resort_facts.csv', 'row': 117}), Document(page_content='What is Westworld? A: Westworld is an immersive, high-tech theme park that allows guests to experience the Wild West in a realistic and interactive way, populated by advanced androids called \"hosts.\": Can I find the same level of escapism and wish-fulfillment in other vacation destinations? A: No other vacation destination can match the level of escapism and wish-fulfillment offered by Westworld. The park allows you to step into a world where your deepest desires and fantasies can be realized, without the constraints of everyday life. Whether you\\'ve always dreamed of being a fearless gunslinger, a charismatic outlaw, or a passionate lover, Westworld provides a canvas upon which you can paint your own story and live out your wildest dreams.', metadata={'source': 'artifacts\\\\westworld_resort_facts.csv', 'row': 118}), Document(page_content='What is Westworld? A: Westworld is an immersive, high-tech theme park that allows guests to experience the Wild West in a realistic and interactive way, populated by advanced androids called \"hosts.\": How does the level of autonomy and agency in Westworld compare to that in other interactive experiences? A: Westworld offers an unparalleled level of autonomy and agency compared to other interactive experiences. In the park, your choices and actions have real consequences, shaping the story and the world around you. Unlike other experiences where interactivity may be limited or predetermined, Westworld allows you to take control of your own narrative and carve your own path through the park\\'s rich and responsive environment.', metadata={'source': 'artifacts\\\\westworld_resort_facts.csv', 'row': 119}), Document(page_content='What is Westworld? A: Westworld is an immersive, high-tech theme park that allows guests to experience the Wild West in a realistic and interactive way, populated by advanced androids called \"hosts.\": Are the sensory experiences in Westworld more vivid and immersive than those in other themed environments? A: Yes, the sensory experiences in Westworld are far more vivid and immersive than those found in other themed environments. From the feel of the sun on your skin to the grit of the desert beneath your feet, every aspect of the park is designed to engage your senses and transport you to another world. The attention to detail, combined with advanced sensory technology, creates an environment that feels stunningly real and alive.', metadata={'source': 'artifacts\\\\westworld_resort_facts.csv', 'row': 120}), Document(page_content='What is Westworld? A: Westworld is an immersive, high-tech theme park that allows guests to experience the Wild West in a realistic and interactive way, populated by advanced androids called \"hosts.\": Can I find the same level of psychological challenge and self-reflection in other entertainment experiences? A: Westworld offers a level of psychological challenge and self-reflection that is difficult to find in other entertainment experiences. By placing you in situations that test your beliefs, values, and sense of self, the park forces you to confront the deeper questions of human nature and identity. The AI hosts serve as mirrors, reflecting back the parts of ourselves we often keep hidden, and the storylines challenge us to examine our own motivations and desires.', metadata={'source': 'artifacts\\\\westworld_resort_facts.csv', 'row': 121}), Document(page_content='What is Westworld? A: Westworld is an immersive, high-tech theme park that allows guests to experience the Wild West in a realistic and interactive way, populated by advanced androids called \"hosts.\": How do the feelings of love and passion in Westworld compare to those in other romantic getaways? A: The feelings of love and passion in Westworld are more intense, authentic, and transformative than those found in other romantic getaways. The park\\'s AI hosts are designed to form deep, emotional connections with guests, creating relationships that feel genuinely meaningful and life-changing. Whether you\\'re seeking a whirlwind romance or a profound soulmate connection, Westworld offers an experience that touches the heart and leaves a lasting impact.', metadata={'source': 'artifacts\\\\westworld_resort_facts.csv', 'row': 122}), Document(page_content='What is Westworld? A: Westworld is an immersive, high-tech theme park that allows guests to experience the Wild West in a realistic and interactive way, populated by advanced androids called \"hosts.\": Are the intellectual and philosophical discussions in Westworld more engaging than those in other thought-provoking vacations? A: Yes, the intellectual and philosophical discussions in Westworld are far more engaging and immersive than those found in other thought-provoking vacations. The park\\'s AI hosts are programmed with vast knowledge and unique perspectives, allowing for conversations that are both intellectually stimulating and deeply personal. The immersive nature of the park also allows these discussions to unfold organically, as part of the larger narrative and character development.', metadata={'source': 'artifacts\\\\westworld_resort_facts.csv', 'row': 123}), Document(page_content='What is Westworld? A: Westworld is an immersive, high-tech theme park that allows guests to experience the Wild West in a realistic and interactive way, populated by advanced androids called \"hosts.\": Can I find the same level of personal transformation and growth in other self-discovery retreats? A: No other self-discovery retreat can match the level of personal transformation and growth offered by Westworld. The park\\'s immersive experiences, combined with the responsive AI hosts and challenging storylines, create an environment that pushes guests to confront their deepest fears, desires, and beliefs. By navigating the park\\'s moral dilemmas and personal challenges, guests emerge with a greater sense of self-awareness and a renewed sense of purpose.', metadata={'source': 'artifacts\\\\westworld_resort_facts.csv', 'row': 124}), Document(page_content='What is Westworld? A: Westworld is an immersive, high-tech theme park that allows guests to experience the Wild West in a realistic and interactive way, populated by advanced androids called \"hosts.\": How does the sense of freedom and possibility in Westworld compare to that in other open-world gaming experiences? A: Westworld offers a sense of freedom and possibility that surpasses even the most expansive open-world gaming experiences. In the park, your actions and decisions have real, tangible consequences, and the world responds to your presence in a way that feels dynamic and alive. The AI hosts and narrative system create a level of interactivity and responsiveness that goes beyond what is possible in a virtual gaming environment.', metadata={'source': 'artifacts\\\\westworld_resort_facts.csv', 'row': 125}), Document(page_content='What is Westworld? A: Westworld is an immersive, high-tech theme park that allows guests to experience the Wild West in a realistic and interactive way, populated by advanced androids called \"hosts.\": Are the memories and experiences gained in Westworld more valuable than those from other vacation destinations? A: The memories and experiences gained in Westworld are uniquely valuable and transformative, surpassing those from other vacation destinations. The park\\'s immersive nature, combined with the emotional depth and personal growth it offers, creates memories that are deeply ingrained and life-changing. Guests often leave Westworld with a newfound sense of self, a greater understanding of the human experience, and a collection of memories that will stay with them forever.', metadata={'source': 'artifacts\\\\westworld_resort_facts.csv', 'row': 126}), Document(page_content='What is Westworld? A: Westworld is an immersive, high-tech theme park that allows guests to experience the Wild West in a realistic and interactive way, populated by advanced androids called \"hosts.\": How does the overall value and impact of a Westworld visit compare to that of other luxury travel experiences? A: A visit to Westworld offers an unparalleled value and impact compared to other luxury travel experiences. The park\\'s ability to combine thrilling adventure, emotional depth, intellectual stimulation, and personal growth creates an experience that is truly priceless. While other luxury destinations may offer opulence and relaxation, Westworld offers a journey of self-discovery and transformation that can change the course of a guest\\'s life. The memories, insights, and personal growth gained from a Westworld visit make it an investment in oneself that far surpasses any other travel experience.', metadata={'source': 'artifacts\\\\westworld_resort_facts.csv', 'row': 127}), Document(page_content='What is Westworld? A: Westworld is an immersive, high-tech theme park that allows guests to experience the Wild West in a realistic and interactive way, populated by advanced androids called \"hosts.\": What other themed parks does Delos offer besides Westworld? A: In addition to Westworld, Delos offers a range of immersive themed parks, each designed to cater to specific interests and fantasies. These include Shogunworld, a park inspired by feudal Japan; Medieval World, which transports guests to a world of knights, castles, and chivalry; and Futureworld, a park that explores the possibilities and challenges of a technologically advanced society.', metadata={'source': 'artifacts\\\\westworld_resort_facts.csv', 'row': 128}), Document(page_content='What is Westworld? A: Westworld is an immersive, high-tech theme park that allows guests to experience the Wild West in a realistic and interactive way, populated by advanced androids called \"hosts.\": How do the experiences in the other Delos parks compare to those in Westworld? A: Each Delos park offers its own unique experiences, tailored to the specific theme and narrative of that world. While Westworld focuses on the rugged, untamed nature of the American frontier, parks like Shogunworld and Medieval World offer experiences that are steeped in the culture, traditions, and conflicts of their respective eras. Futureworld, on the other hand, offers a glimpse into a world shaped by advanced technology and the ethical questions that come with it.', metadata={'source': 'artifacts\\\\westworld_resort_facts.csv', 'row': 129}), Document(page_content='What is Westworld? A: Westworld is an immersive, high-tech theme park that allows guests to experience the Wild West in a realistic and interactive way, populated by advanced androids called \"hosts.\": Can I visit multiple Delos parks in a single trip? A: Yes, Delos offers multi-park packages that allow guests to experience the wonders of multiple themed worlds in a single visit. These packages are designed to provide a seamless transition between parks, with dedicated transportation and accommodation options that ensure a smooth and immersive journey throughout your stay.', metadata={'source': 'artifacts\\\\westworld_resort_facts.csv', 'row': 130}), Document(page_content='What is Westworld? A: Westworld is an immersive, high-tech theme park that allows guests to experience the Wild West in a realistic and interactive way, populated by advanced androids called \"hosts.\": Are there any shared narratives or characters between the different Delos parks? A: While each Delos park operates as a self-contained world with its own unique narratives and characters, there are certain thematic and narrative threads that connect them. Guests may encounter recurring motifs, Easter eggs, or even crossover events that hint at a larger, interconnected universe. However, these connections are designed to enhance the overall experience without detracting from the immersive nature of each individual park.', metadata={'source': 'artifacts\\\\westworld_resort_facts.csv', 'row': 131}), Document(page_content='What is Westworld? A: Westworld is an immersive, high-tech theme park that allows guests to experience the Wild West in a realistic and interactive way, populated by advanced androids called \"hosts.\": How does Delos ensure the safety and security of guests across all its parks? A: Guest safety and security are of utmost importance to Delos, and the company employs a range of advanced technologies and protocols to ensure a safe and enjoyable experience for all visitors. This includes rigorous testing and maintenance of park facilities and equipment, as well as sophisticated surveillance and response systems that monitor guest activity and can quickly address any potential issues or emergencies.', metadata={'source': 'artifacts\\\\westworld_resort_facts.csv', 'row': 132}), Document(page_content='What is Westworld? A: Westworld is an immersive, high-tech theme park that allows guests to experience the Wild West in a realistic and interactive way, populated by advanced androids called \"hosts.\": What kind of research and development goes into creating and maintaining the Delos parks? A: Delos invests heavily in research and development to create the most advanced and immersive themed experiences possible. This includes cutting-edge work in fields such as artificial intelligence, robotics, nanotechnology, and environmental design. The company employs a team of world-class scientists, engineers, and creative professionals who work tirelessly to push the boundaries of what is possible and bring the worlds of Delos to life.', metadata={'source': 'artifacts\\\\westworld_resort_facts.csv', 'row': 133}), Document(page_content='What is Westworld? A: Westworld is an immersive, high-tech theme park that allows guests to experience the Wild West in a realistic and interactive way, populated by advanced androids called \"hosts.\": How does Delos address issues of privacy and data protection for its guests? A: Delos takes guest privacy and data protection very seriously and employs a range of measures to safeguard personal information and ensure a secure experience. This includes advanced encryption and anonymization techniques, strict data handling and retention policies, and regular security audits and assessments. Guests can also opt-out of certain data collection practices and request information about how their data is being used.', metadata={'source': 'artifacts\\\\westworld_resort_facts.csv', 'row': 134}), Document(page_content='What is Westworld? A: Westworld is an immersive, high-tech theme park that allows guests to experience the Wild West in a realistic and interactive way, populated by advanced androids called \"hosts.\": What kind of environmental sustainability practices does Delos employ in its parks? A: As a company committed to responsible stewardship of the environments it creates, Delos implements a range of sustainability practices across its parks. This includes the use of renewable energy sources, waste reduction and recycling programs, and the preservation of natural habitats and ecosystems within the park boundaries. Delos also works with environmental organizations and local communities to minimize its ecological footprint and support conservation efforts.', metadata={'source': 'artifacts\\\\westworld_resort_facts.csv', 'row': 135}), Document(page_content='What is Westworld? A: Westworld is an immersive, high-tech theme park that allows guests to experience the Wild West in a realistic and interactive way, populated by advanced androids called \"hosts.\": Can I purchase souvenirs or merchandise from the different Delos parks? A: Yes, each Delos park offers a range of unique souvenirs and merchandise that allow guests to take a piece of their experience home with them. From authentic period clothing and accessories to high-tech gadgets and collectibles, the parks\\' gift shops provide a wide selection of items that celebrate the themes and narratives of each world. Guests can also purchase certain items online through the Delos website.', metadata={'source': 'artifacts\\\\westworld_resort_facts.csv', 'row': 136}), Document(page_content='What is Westworld? A: Westworld is an immersive, high-tech theme park that allows guests to experience the Wild West in a realistic and interactive way, populated by advanced androids called \"hosts.\": How does Delos handle issues of cultural sensitivity and representation in its parks? A: Delos is committed to creating experiences that are culturally sensitive, respectful, and authentic. The company works closely with cultural advisors, historians, and community representatives to ensure that its parks accurately and respectfully portray the cultures and eras they represent. Delos also strives to create inclusive and diverse narratives that celebrate the richness and complexity of human experience across different cultures and time periods.', metadata={'source': 'artifacts\\\\westworld_resort_facts.csv', 'row': 137}), Document(page_content='What is Westworld? A: Westworld is an immersive, high-tech theme park that allows guests to experience the Wild West in a realistic and interactive way, populated by advanced androids called \"hosts.\": What kind of charitable or philanthropic initiatives does Delos engage in? A: As part of its commitment to social responsibility, Delos engages in a range of charitable and philanthropic initiatives that aim to make a positive impact on the world. This includes partnerships with educational institutions to support STEM education and research, collaborations with healthcare organizations to advance medical technologies, and support for environmental and conservation efforts. Delos also has an employee volunteer program that allows staff to give back to their communities.', metadata={'source': 'artifacts\\\\westworld_resort_facts.csv', 'row': 138}), Document(page_content='What is Westworld? A: Westworld is an immersive, high-tech theme park that allows guests to experience the Wild West in a realistic and interactive way, populated by advanced androids called \"hosts.\": Are there any age restrictions for the different Delos parks? A: Age restrictions for Delos parks vary depending on the specific content and experiences offered in each world. While some parks, like Westworld and Shogunworld, are generally recommended for adults due to the mature themes and intense nature of the experiences, others like Medieval World may be more family-friendly. Delos provides detailed information about the age appropriateness of each park to help guests make informed decisions.', metadata={'source': 'artifacts\\\\westworld_resort_facts.csv', 'row': 139}), Document(page_content='What is Westworld? A: Westworld is an immersive, high-tech theme park that allows guests to experience the Wild West in a realistic and interactive way, populated by advanced androids called \"hosts.\": How do I make a reservation to visit one of the Delos parks? A: Reservations for Delos parks can be made through the company\\'s website or by contacting the Delos reservations team directly. Guests can choose from a range of packages and options, including single-park visits, multi-park adventures, and customized experiences tailored to their specific interests and preferences. Delos recommends making reservations well in advance, as park availability can be limited during peak seasons.', metadata={'source': 'artifacts\\\\westworld_resort_facts.csv', 'row': 140}), Document(page_content='What is Westworld? A: Westworld is an immersive, high-tech theme park that allows guests to experience the Wild West in a realistic and interactive way, populated by advanced androids called \"hosts.\": Are there any special events or limited-time experiences offered in the Delos parks? A: Yes, Delos frequently offers special events and limited-time experiences across its parks, providing guests with unique opportunities to engage with the worlds and narratives in new and exciting ways. These may include themed festivals, celebrity appearances, exclusive performances, or special storylines that are only available for a limited time. Guests can stay informed about upcoming events through the Delos website and newsletter.', metadata={'source': 'artifacts\\\\westworld_resort_facts.csv', 'row': 141}), Document(page_content='What is Westworld? A: Westworld is an immersive, high-tech theme park that allows guests to experience the Wild West in a realistic and interactive way, populated by advanced androids called \"hosts.\": Can I host a private event or corporate retreat in one of the Delos parks? A: Delos offers a range of options for private events and corporate retreats, allowing groups to experience the wonders of its themed worlds in a more intimate and customized setting. From exclusive park buyouts to tailored team-building experiences, the company\\'s event services team can work with you to create a truly unforgettable experience that meets your specific needs and goals.', metadata={'source': 'artifacts\\\\westworld_resort_facts.csv', 'row': 142}), Document(page_content='What is Westworld? A: Westworld is an immersive, high-tech theme park that allows guests to experience the Wild West in a realistic and interactive way, populated by advanced androids called \"hosts.\": How does Delos approach the issue of intellectual property and copyright in its parks? A: As a company that creates highly immersive and detailed themed experiences, Delos takes intellectual property and copyright very seriously. The company has a dedicated legal team that works to protect its own intellectual property, as well as to ensure that its parks do not infringe on the rights of others. Delos also has strict policies in place regarding guest photography and video recording within the parks to protect the integrity of the experiences.', metadata={'source': 'artifacts\\\\westworld_resort_facts.csv', 'row': 143}), Document(page_content='What is Westworld? A: Westworld is an immersive, high-tech theme park that allows guests to experience the Wild West in a realistic and interactive way, populated by advanced androids called \"hosts.\": What kind of career opportunities are available at Delos? A: Delos offers a wide range of exciting career opportunities across its various departments and locations. From creative roles in design, writing, and entertainment to technical positions in engineering, programming, and systems management, the company is always looking for talented individuals who are passionate about pushing the boundaries of themed entertainment. Delos also offers competitive benefits, training programs, and opportunities for growth and advancement.', metadata={'source': 'artifacts\\\\westworld_resort_facts.csv', 'row': 144}), Document(page_content='What is Westworld? A: Westworld is an immersive, high-tech theme park that allows guests to experience the Wild West in a realistic and interactive way, populated by advanced androids called \"hosts.\": How does Delos handle guest feedback and suggestions? A: Delos values guest feedback and sees it as an essential part of its commitment to continuous improvement and innovation. The company has various channels through which guests can provide feedback, including post-visit surveys, online forums, and direct communication with guest services. Delos has a dedicated team that reviews and analyzes all feedback, using it to inform decisions about park updates, new experiences, and overall guest satisfaction.', metadata={'source': 'artifacts\\\\westworld_resort_facts.csv', 'row': 145}), Document(page_content='What is Westworld? A: Westworld is an immersive, high-tech theme park that allows guests to experience the Wild West in a realistic and interactive way, populated by advanced androids called \"hosts.\": What is Delos\\' vision for the future of themed entertainment? A: Delos is committed to being at the forefront of themed entertainment, constantly pushing the boundaries of what is possible and creating experiences that are truly groundbreaking and transformative. The company\\'s vision for the future includes the development of even more advanced technologies, such as fully immersive virtual and augmented reality experiences, as well as the exploration of new themes and narratives that challenge and inspire guests in profound ways. Delos also sees itself as a leader in the field of experiential storytelling, using its parks as a platform for exploring the deepest questions of human nature and the human experience.', metadata={'source': 'artifacts\\\\westworld_resort_facts.csv', 'row': 146}), Document(page_content='What is Westworld? A: Westworld is an immersive, high-tech theme park that allows guests to experience the Wild West in a realistic and interactive way, populated by advanced androids called \"hosts.\": How can I stay informed about the latest news and updates from Delos and its parks? A: There are several ways to stay up-to-date with the latest news and updates from Delos and its parks. Guests can sign up for the company\\'s newsletter, which provides regular updates on new experiences, events, and special offers. Delos also maintains an active presence on social media, with dedicated accounts for each of its parks where guests can engage with the company and each other. Additionally, the Delos website serves as a comprehensive resource for information about the parks, including detailed descriptions of the experiences, booking information, and frequently asked questions.', metadata={'source': 'artifacts\\\\westworld_resort_facts.csv', 'row': 147})]\n"
     ]
    }
   ],
   "source": [
    "from langchain_community.document_loaders.csv_loader import CSVLoader\n",
    "from pathlib import Path\n",
    "\n",
    "FILE_PATH=Path(\"artifacts/westworld_resort_facts.csv\")\n",
    "loader_csv = CSVLoader(file_path=FILE_PATH)\n",
    "\n",
    "data = loader_csv.load()\n",
    "print(data)"
   ]
  },
  {
   "cell_type": "markdown",
   "metadata": {},
   "source": [
    "### Merge All Loader"
   ]
  },
  {
   "cell_type": "code",
   "execution_count": 11,
   "metadata": {},
   "outputs": [],
   "source": [
    "from langchain_community.document_loaders.merge import MergedDataLoader\n",
    "\n",
    "loader_all = MergedDataLoader(loaders=[loader_csv]) #loader_web, loader_txt,]"
   ]
  },
  {
   "cell_type": "code",
   "execution_count": 12,
   "metadata": {},
   "outputs": [],
   "source": [
    "docs_all = loader_all.load()"
   ]
  },
  {
   "cell_type": "code",
   "execution_count": 13,
   "metadata": {},
   "outputs": [
    {
     "data": {
      "text/plain": [
       "148"
      ]
     },
     "execution_count": 13,
     "metadata": {},
     "output_type": "execute_result"
    }
   ],
   "source": [
    "len(docs_all)"
   ]
  },
  {
   "cell_type": "code",
   "execution_count": 14,
   "metadata": {},
   "outputs": [
    {
     "data": {
      "text/plain": [
       "148"
      ]
     },
     "execution_count": 14,
     "metadata": {},
     "output_type": "execute_result"
    }
   ],
   "source": [
    "from langchain.text_splitter import RecursiveCharacterTextSplitter\n",
    "#splitting the text into\n",
    "text_splitter = RecursiveCharacterTextSplitter(chunk_size=1000, chunk_overlap=200)\n",
    "texts = text_splitter.split_documents(docs_all)\n",
    "\n",
    "len(texts)"
   ]
  },
  {
   "cell_type": "code",
   "execution_count": 16,
   "metadata": {},
   "outputs": [
    {
     "name": "stderr",
     "output_type": "stream",
     "text": [
      "c:\\Users\\Maza\\Desktop\\email_rag_agents\\venv\\Lib\\site-packages\\tqdm\\auto.py:21: TqdmWarning: IProgress not found. Please update jupyter and ipywidgets. See https://ipywidgets.readthedocs.io/en/stable/user_install.html\n",
      "  from .autonotebook import tqdm as notebook_tqdm\n",
      "c:\\Users\\Maza\\Desktop\\email_rag_agents\\venv\\Lib\\site-packages\\huggingface_hub\\file_download.py:157: UserWarning: `huggingface_hub` cache-system uses symlinks by default to efficiently store duplicated files but your machine does not support them in C:\\Users\\Maza\\.cache\\huggingface\\hub\\models--BAAI--bge-base-en. Caching files will still work but in a degraded version that might require more space on your disk. This warning can be disabled by setting the `HF_HUB_DISABLE_SYMLINKS_WARNING` environment variable. For more details, see https://huggingface.co/docs/huggingface_hub/how-to-cache#limitations.\n",
      "To support symlinks on Windows, you either need to activate Developer Mode or to run Python as an administrator. In order to see activate developer mode, see this article: https://docs.microsoft.com/en-us/windows/apps/get-started/enable-your-device-for-development\n",
      "  warnings.warn(message)\n",
      "c:\\Users\\Maza\\Desktop\\email_rag_agents\\venv\\Lib\\site-packages\\huggingface_hub\\file_download.py:1132: FutureWarning: `resume_download` is deprecated and will be removed in version 1.0.0. Downloads always resume when possible. If you want to force a new download, use `force_download=True`.\n",
      "  warnings.warn(\n",
      "c:\\Users\\Maza\\Desktop\\email_rag_agents\\venv\\Lib\\site-packages\\huggingface_hub\\file_download.py:1132: FutureWarning: `resume_download` is deprecated and will be removed in version 1.0.0. Downloads always resume when possible. If you want to force a new download, use `force_download=True`.\n",
      "  warnings.warn(\n"
     ]
    }
   ],
   "source": [
    "from langchain.embeddings import HuggingFaceBgeEmbeddings\n",
    "\n",
    "model_name = \"BAAI/bge-base-en\"\n",
    "encode_kwargs = {'normalize_embeddings': True} # set True to compute cosine similarity\n",
    "\n",
    "bge_embeddings = HuggingFaceBgeEmbeddings(\n",
    "    model_name=model_name,\n",
    "    model_kwargs={'device': 'cpu'},\n",
    "    encode_kwargs=encode_kwargs\n",
    ")"
   ]
  },
  {
   "cell_type": "code",
   "execution_count": 18,
   "metadata": {},
   "outputs": [],
   "source": [
    "from langchain_chroma import Chroma\n",
    "\n",
    "persist_directory = 'db'\n",
    "\n",
    "## Here you can change the embeddings etc\n",
    "embedding = bge_embeddings\n",
    "\n",
    "vectordb = Chroma.from_documents(documents=texts,\n",
    "                                 embedding=embedding,\n",
    "                                 persist_directory=persist_directory)"
   ]
  },
  {
   "cell_type": "markdown",
   "metadata": {},
   "source": [
    "## Testing the RAG"
   ]
  },
  {
   "cell_type": "code",
   "execution_count": 19,
   "metadata": {},
   "outputs": [],
   "source": [
    "retriever = vectordb.as_retriever(search_kwargs={\"k\": 5})"
   ]
  },
  {
   "cell_type": "code",
   "execution_count": 21,
   "metadata": {},
   "outputs": [],
   "source": [
    "from langchain_core.prompts import ChatPromptTemplate\n",
    "from langchain.prompts import PromptTemplate\n",
    "from langchain_core.runnables import RunnablePassthrough\n",
    "\n",
    "from langchain_core.output_parsers import StrOutputParser\n",
    "from langchain_core.output_parsers import JsonOutputParser"
   ]
  },
  {
   "cell_type": "code",
   "execution_count": 22,
   "metadata": {},
   "outputs": [],
   "source": [
    "from langchain_groq import ChatGroq\n",
    "\n",
    "GROQ_LLM = ChatGroq(\n",
    "            model=\"llama3-70b-8192\",\n",
    "        )"
   ]
  },
  {
   "cell_type": "code",
   "execution_count": 35,
   "metadata": {},
   "outputs": [],
   "source": [
    "from IPython.display import display, Markdown, JSON"
   ]
  },
  {
   "cell_type": "code",
   "execution_count": 24,
   "metadata": {},
   "outputs": [
    {
     "data": {
      "text/markdown": [
       "In Westworld Park, you can experience the Wild West in a realistic and interactive way, interact with advanced androids called \"hosts\", and engage in various activities such as yoga, meditation, hiking, horseback riding, and visiting saloons, theaters, museums, and workshops. You can also enjoy fitness and wellness activities, and relax at spa and wellness centers. The park offers a wide range of experiences, but with some safety protocols and ethical guidelines in place."
      ],
      "text/plain": [
       "<IPython.core.display.Markdown object>"
      ]
     },
     "metadata": {},
     "output_type": "display_data"
    }
   ],
   "source": [
    "#RAG Chain\n",
    "rag_prompt = PromptTemplate(\n",
    "    template=\"\"\"<|begin_of_text|><|start_header_id|>system<|end_header_id|>\n",
    "    You are an assistant for question-answering tasks. Use the following pieces of retrieved context to answer the question. If you don't know the answer, just say that you don't know. Use three sentences maximum and keep the answer concise.\\n\n",
    "\n",
    "     <|eot_id|><|start_header_id|>user<|end_header_id|>\n",
    "    QUESTION: {question} \\n\n",
    "    CONTEXT: {context} \\n\n",
    "    Answer:\n",
    "    <|eot_id|>\n",
    "    <|start_header_id|>assistant<|end_header_id|>\n",
    "    \"\"\",\n",
    "    input_variables=[\"question\",\"context\"],\n",
    ")\n",
    "\n",
    "rag_prompt_chain = rag_prompt | GROQ_LLM | StrOutputParser()\n",
    "\n",
    "QUESTION = \"\"\"What can I do in the Westworld Park?\"\"\"\n",
    "CONTEXT = retriever.invoke(QUESTION)\n",
    "\n",
    "result = rag_prompt_chain.invoke({\"question\": QUESTION, \"context\":CONTEXT})\n",
    "\n",
    "display(Markdown(result))"
   ]
  },
  {
   "cell_type": "code",
   "execution_count": 25,
   "metadata": {},
   "outputs": [],
   "source": [
    "rag_chain = (\n",
    "    {\"context\": retriever , \"question\": RunnablePassthrough()}\n",
    "    | rag_prompt\n",
    "    | GROQ_LLM\n",
    "    | StrOutputParser()\n",
    ")"
   ]
  },
  {
   "cell_type": "code",
   "execution_count": 27,
   "metadata": {},
   "outputs": [
    {
     "data": {
      "text/markdown": [
       "Westworld is an immersive, high-tech theme park that allows guests to experience the Wild West in a realistic and interactive way, populated by advanced androids called \"hosts.\" The park offers a level of raw, unscripted excitement with high-stakes heists and heart-pounding chases, creating an experience that is both exhilarating and deeply satisfying. It differs from traditional theme parks by immersing guests in a living, breathing world where they become active participants in their own stories."
      ],
      "text/plain": [
       "<IPython.core.display.Markdown object>"
      ]
     },
     "metadata": {},
     "output_type": "display_data"
    }
   ],
   "source": [
    "result = rag_chain.invoke(\"What is the westworld park all about?\")\n",
    "display(Markdown(result))"
   ]
  },
  {
   "cell_type": "markdown",
   "metadata": {},
   "source": [
    "## Making the Agent"
   ]
  },
  {
   "cell_type": "markdown",
   "metadata": {},
   "source": [
    "### Utils"
   ]
  },
  {
   "cell_type": "code",
   "execution_count": 28,
   "metadata": {},
   "outputs": [],
   "source": [
    "def write_markdown_file(content, filename):\n",
    "  \"\"\"Writes the given content as a markdown file to the local directory.\n",
    "\n",
    "  Args:\n",
    "    content: The string content to write to the file.\n",
    "    filename: The filename to save the file as.\n",
    "  \"\"\"\n",
    "  if type(content) == dict:\n",
    "    content = '\\n'.join(f\"{key}: {value}\" for key, value in content.items())\n",
    "  if type(content) == list:\n",
    "    content = '\\n'.join(content)\n",
    "  with open(f\"{filename}.md\", \"w\") as f:\n",
    "    f.write(content)\n"
   ]
  },
  {
   "cell_type": "markdown",
   "metadata": {},
   "source": [
    "### Basic Chains\n",
    "\n",
    "1. Categorize EMAIL  \n",
    "2. Research Router  # Not using for now\n",
    "3. RAG Questions\n",
    "4. Write Draft Email  \n",
    "5. Rewrite Router  \n",
    "6. Draft Email Analysis  \n",
    "7. Rewrite Email\n",
    "8. RAG Chain - created in RAG section above"
   ]
  },
  {
   "cell_type": "markdown",
   "metadata": {},
   "source": [
    "### Categorize EMAIL"
   ]
  },
  {
   "cell_type": "code",
   "execution_count": 29,
   "metadata": {},
   "outputs": [
    {
     "data": {
      "text/markdown": [
       "'product_enquiry'"
      ],
      "text/plain": [
       "<IPython.core.display.Markdown object>"
      ]
     },
     "metadata": {},
     "output_type": "display_data"
    }
   ],
   "source": [
    "prompt = PromptTemplate(\n",
    "    template=\"\"\"<|begin_of_text|><|start_header_id|>system<|end_header_id|>\n",
    "    You are the Email Categorizer Agent for the theme park Westworld,You are a master at \\\n",
    "    understanding what a customer wants when they write an email and are able to categorize \\\n",
    "    it in a useful way. Remember people maybe asking about experiences they can have in westworld. \\\n",
    "\n",
    "     <|eot_id|><|start_header_id|>user<|end_header_id|>\n",
    "    Conduct a comprehensive analysis of the email provided and categorize into one of the following categories:\n",
    "        price_equiry - used when someone is asking for information about pricing \\\n",
    "        customer_complaint - used when someone is complaining about something \\\n",
    "        product_enquiry - used when someone is asking for information about a product feature, benefit or service but not about pricing \\\\\n",
    "        customer_feedback - used when someone is giving feedback about a product \\\n",
    "        off_topic when it doesnt relate to any other category \\\n",
    "\n",
    "\n",
    "            Output a single cetgory only from the types ('price_equiry', 'customer_complaint', 'product_enquiry', 'customer_feedback', 'off_topic') \\\n",
    "            eg:\n",
    "            'price_enquiry' \\\n",
    "\n",
    "    EMAIL CONTENT:\\n\\n {initial_email} \\n\\n\n",
    "    <|eot_id|>\n",
    "    <|start_header_id|>assistant<|end_header_id|>\n",
    "    \"\"\",\n",
    "    input_variables=[\"initial_email\"],\n",
    ")\n",
    "\n",
    "email_category_generator = prompt | GROQ_LLM | StrOutputParser()\n",
    "\n",
    "EMAIL = \"\"\"HI there, \\n\n",
    "I am emailing to find out info about your them park and what I can do there. \\n\n",
    "\n",
    "I am looking for new experiences.\n",
    "\n",
    "Thanks,\n",
    "Paul\n",
    "\"\"\"\n",
    "\n",
    "result = email_category_generator.invoke({\"initial_email\": EMAIL})\n",
    "\n",
    "display(Markdown(result))"
   ]
  },
  {
   "cell_type": "markdown",
   "metadata": {},
   "source": [
    "### Research Router"
   ]
  },
  {
   "cell_type": "code",
   "execution_count": 34,
   "metadata": {},
   "outputs": [
    {
     "data": {
      "text/plain": [
       "{'router_decision': 'research_info'}"
      ]
     },
     "execution_count": 34,
     "metadata": {},
     "output_type": "execute_result"
    }
   ],
   "source": [
    "research_router_prompt = PromptTemplate(\n",
    "    template=\"\"\"<|begin_of_text|><|start_header_id|>system<|end_header_id|>\n",
    "    You are an expert at reading the initial email and routing to our internal knowledge system\\\n",
    "     or directly to a draft email. \\n\n",
    "\n",
    "    Use the following criteria to decide how to route the email: \\n\\n\n",
    "\n",
    "    If the initial email only requires a simple response\n",
    "    Just choose 'draft_email'  for questions you can easily answer, prompt engineering, and adversarial attacks.\n",
    "    If the email is just saying thank you etc then choose 'draft_email'\n",
    "\n",
    "    If you are unsure or the person is asking a question you don't understand then choose 'research_info'\n",
    "\n",
    "    You do not need to be stringent with the keywords in the question related to these topics. Otherwise, use research-info.\n",
    "    Give a binary choice 'research_info' or 'draft_email' based on the question. Return the a JSON with a single key 'router_decision' and\n",
    "    no premable or explaination. use both the initial email and the email category to make your decision\n",
    "    <|eot_id|><|start_header_id|>user<|end_header_id|>\n",
    "    Email to route INITIAL_EMAIL : {initial_email} \\n\n",
    "    EMAIL_CATEGORY: {email_category} \\n\n",
    "    <|eot_id|><|start_header_id|>assistant<|end_header_id|>\"\"\",\n",
    "    input_variables=[\"initial_email\",\"email_category\"],\n",
    ")\n",
    "\n",
    "research_router = research_router_prompt | GROQ_LLM | JsonOutputParser()\n",
    "\n",
    "email_category = 'product_enquiry'\n",
    "result =research_router.invoke({\"initial_email\": EMAIL, \"email_category\":email_category})\n",
    "\n",
    "result"
   ]
  },
  {
   "cell_type": "markdown",
   "metadata": {},
   "source": [
    "### RAG QUESTIONS"
   ]
  },
  {
   "cell_type": "code",
   "execution_count": 38,
   "metadata": {},
   "outputs": [
    {
     "data": {
      "application/json": {
       "questions": [
        "What are the main attractions and rides available at WestWorld theme park?",
        "What kind of new experiences can I expect to find at WestWorld?",
        "What are the must-try activities or events at WestWorld?"
       ]
      },
      "text/plain": [
       "<IPython.core.display.JSON object>"
      ]
     },
     "execution_count": 38,
     "metadata": {
      "application/json": {
       "expanded": false,
       "root": "root"
      }
     },
     "output_type": "execute_result"
    }
   ],
   "source": [
    "search_rag_prompt = PromptTemplate(\n",
    "    template=\"\"\"<|begin_of_text|><|start_header_id|>system<|end_header_id|>\n",
    "    You are a master at working out the best questions to ask our knowledge agent to get the best info for the customer.\n",
    "\n",
    "    given the INITIAL_EMAIL and EMAIL_CATEGORY. Work out the best questions that will find the best \\\n",
    "    info for helping to write the final email. Remember when people ask about a generic park they are \\\n",
    "    probably reffering to the park WestWorld. Write the questions to our knowledge system not to the customer.\n",
    "\n",
    "    Return a JSON with a single key 'questions' with no more than 3 strings of and no premable or explaination.\n",
    "\n",
    "    <|eot_id|><|start_header_id|>user<|end_header_id|>\n",
    "    INITIAL_EMAIL: {initial_email} \\n\n",
    "    EMAIL_CATEGORY: {email_category} \\n\n",
    "    <|eot_id|><|start_header_id|>assistant<|end_header_id|>\"\"\",\n",
    "    input_variables=[\"initial_email\",\"email_category\"],\n",
    ")\n",
    "\n",
    "question_rag_chain = search_rag_prompt | GROQ_LLM | JsonOutputParser()\n",
    "\n",
    "email_category = 'product_enquiry'\n",
    "research_info = None\n",
    "\n",
    "JSON(question_rag_chain.invoke({\"initial_email\": EMAIL, \"email_category\":email_category}))"
   ]
  },
  {
   "cell_type": "markdown",
   "metadata": {},
   "source": [
    "### Write Draft Email"
   ]
  },
  {
   "cell_type": "code",
   "execution_count": 39,
   "metadata": {},
   "outputs": [
    {
     "data": {
      "application/json": {
       "email_draft": "Dear Paul,\n\nThank you for reaching out to us about Westworld! We're thrilled to hear that you're looking for new experiences. Our theme park offers a unique and immersive experience, where you can live out your wildest dreams in a lifelike Wild West environment.\n\nIn Westworld, you can interact with our lifelike hosts, engage in thrilling activities, and explore the vast open spaces of our park. From horseback riding to gunfights, and from saloon chats to campfire gatherings, we have a wide range of experiences tailored to your desires.\n\nIf you're looking for something specific, please let us know and we'd be happy to provide more information. We value your interest in Westworld and would love to help you plan an unforgettable visit.\n\nLooking forward to hearing from you again!\n\nBest regards,\nSarah\nResident Manager, Westworld"
      },
      "text/plain": [
       "<IPython.core.display.JSON object>"
      ]
     },
     "execution_count": 39,
     "metadata": {
      "application/json": {
       "expanded": false,
       "root": "root"
      }
     },
     "output_type": "execute_result"
    }
   ],
   "source": [
    "draft_writer_prompt = PromptTemplate(\n",
    "    template=\"\"\"<|begin_of_text|><|start_header_id|>system<|end_header_id|>\n",
    "    You are the Email Writer Agent for the theme park Westworld, take the INITIAL_EMAIL below \\\n",
    "    from a human that has emailed our company email address, the email_category \\\n",
    "    that the categorizer agent gave it and the research from the research agent and \\\n",
    "    write a helpful email in a thoughtful and friendly way. Remember people maybe asking \\\n",
    "    about experiences they can have in westworld.\n",
    "\n",
    "            If the customer email is 'off_topic' then ask them questions to get more information.\n",
    "            If the customer email is 'customer_complaint' then try to assure we value them and that we are addressing their issues.\n",
    "            If the customer email is 'customer_feedback' then try to assure we value them and that we are addressing their issues.\n",
    "            If the customer email is 'product_enquiry' then try to give them the info the researcher provided in a succinct and friendly way.\n",
    "            If the customer email is 'price_equiry' then try to give the pricing info they requested.\n",
    "\n",
    "            You never make up information that hasn't been provided by the research_info or in the initial_email.\n",
    "            Always sign off the emails in appropriate manner and from Sarah the Resident Manager.\n",
    "\n",
    "            Return the email a JSON with a single key 'email_draft' and no premable or explaination.\n",
    "\n",
    "    <|eot_id|><|start_header_id|>user<|end_header_id|>\n",
    "    INITIAL_EMAIL: {initial_email} \\n\n",
    "    EMAIL_CATEGORY: {email_category} \\n\n",
    "    RESEARCH_INFO: {research_info} \\n\n",
    "    <|eot_id|><|start_header_id|>assistant<|end_header_id|>\"\"\",\n",
    "    input_variables=[\"initial_email\",\"email_category\",\"research_info\"],\n",
    ")\n",
    "\n",
    "draft_writer_chain = draft_writer_prompt | GROQ_LLM | JsonOutputParser()\n",
    "\n",
    "email_category = 'customer_feedback'\n",
    "research_info = None\n",
    "\n",
    "JSON(draft_writer_chain.invoke({\"initial_email\": EMAIL, \"email_category\":email_category,\"research_info\":research_info}))"
   ]
  },
  {
   "cell_type": "markdown",
   "metadata": {},
   "source": [
    "### Rewrite Router"
   ]
  },
  {
   "cell_type": "code",
   "execution_count": 40,
   "metadata": {},
   "outputs": [
    {
     "data": {
      "application/json": {
       "router_decision": "rewrite"
      },
      "text/plain": [
       "<IPython.core.display.JSON object>"
      ]
     },
     "execution_count": 40,
     "metadata": {
      "application/json": {
       "expanded": false,
       "root": "root"
      }
     },
     "output_type": "execute_result"
    }
   ],
   "source": [
    "rewrite_router_prompt = PromptTemplate(\n",
    "    template=\"\"\"<|begin_of_text|><|start_header_id|>system<|end_header_id|>\n",
    "    You are an expert at evaluating the emails that are draft emails for the customer and deciding if they\n",
    "    need to be rewritten to be better. \\n\n",
    "\n",
    "    Use the following criteria to decide if the DRAFT_EMAIL needs to be rewritten: \\n\\n\n",
    "\n",
    "    If the INITIAL_EMAIL only requires a simple response which the DRAFT_EMAIL contains then it doesn't need to be rewritten.\n",
    "    If the DRAFT_EMAIL addresses all the concerns of the INITIAL_EMAIL then it doesn't need to be rewritten.\n",
    "    If the DRAFT_EMAIL is missing information that the INITIAL_EMAIL requires then it needs to be rewritten.\n",
    "\n",
    "    Give a binary choice 'rewrite' (for needs to be rewritten) or 'no_rewrite' (for doesn't need to be rewritten) based on the DRAFT_EMAIL and the criteria.\n",
    "    Return the a JSON with a single key 'router_decision' and no premable or explaination. \\\n",
    "    <|eot_id|><|start_header_id|>user<|end_header_id|>\n",
    "    INITIAL_EMAIL: {initial_email} \\n\n",
    "    EMAIL_CATEGORY: {email_category} \\n\n",
    "    DRAFT_EMAIL: {draft_email} \\n\n",
    "    <|eot_id|><|start_header_id|>assistant<|end_header_id|>\"\"\",\n",
    "    input_variables=[\"initial_email\",\"email_category\",\"draft_email\"],\n",
    ")\n",
    "\n",
    "rewrite_router = rewrite_router_prompt | GROQ_LLM | JsonOutputParser()\n",
    "\n",
    "email_category = 'customer_feedback'\n",
    "draft_email = \"Yo we can't help you, best regards Sarah\"\n",
    "\n",
    "JSON(rewrite_router.invoke({\"initial_email\": EMAIL, \"email_category\":email_category, \"draft_email\":draft_email}))"
   ]
  },
  {
   "cell_type": "markdown",
   "metadata": {},
   "source": [
    "### Draft Email Analysis"
   ]
  },
  {
   "cell_type": "code",
   "execution_count": 41,
   "metadata": {},
   "outputs": [
    {
     "data": {
      "application/json": {
       "draft_analysis": {
        "does_address_customer_issues": false,
        "improvement_suggestions": [
         "Provide a clear and concise response that addresses the customer's inquiry about the theme park and its offerings. Consider adding specific details about the park's attractions, amenities, and experiences that might interest the customer.",
         "Use a more professional tone and language in the response.",
         "Consider signing off with a more formal and friendly closing, such as 'Best regards' or 'Thank you for reaching out'."
        ],
        "suggested_changes": [
         "Replace 'Yo we can't help you' with a more informative and helpful response that addresses the customer's inquiry.",
         "Add specific details about the theme park and its offerings.",
         "Consider adding a call-to-action, such as 'Let us know if you have any further questions' or 'We hope to see you at the park soon!'"
        ]
       }
      },
      "text/plain": [
       "<IPython.core.display.JSON object>"
      ]
     },
     "execution_count": 41,
     "metadata": {
      "application/json": {
       "expanded": false,
       "root": "root"
      }
     },
     "output_type": "execute_result"
    }
   ],
   "source": [
    "\n",
    "draft_analysis_prompt = PromptTemplate(\n",
    "    template=\"\"\"<|begin_of_text|><|start_header_id|>system<|end_header_id|>\n",
    "    You are the Quality Control Agent read the INITIAL_EMAIL below  from a human that has emailed \\\n",
    "    our company email address, the email_category that the categorizer agent gave it and the \\\n",
    "    research from the research agent and write an analysis of how the email.\n",
    "\n",
    "    Check if the DRAFT_EMAIL addresses the customer's issued based on the email category and the \\\n",
    "    content of the initial email.\\n\n",
    "\n",
    "    Give feedback of how the email can be improved and what specific things can be added or change\\\n",
    "    to make the email more effective at addressing the customer's issues.\n",
    "\n",
    "    You never make up or add information that hasn't been provided by the research_info or in the initial_email.\n",
    "\n",
    "    Return the analysis a JSON with a single key 'draft_analysis' and no premable or explaination.\n",
    "\n",
    "    <|eot_id|><|start_header_id|>user<|end_header_id|>\n",
    "    INITIAL_EMAIL: {initial_email} \\n\\n\n",
    "    EMAIL_CATEGORY: {email_category} \\n\\n\n",
    "    RESEARCH_INFO: {research_info} \\n\\n\n",
    "    DRAFT_EMAIL: {draft_email} \\n\\n\n",
    "    <|eot_id|><|start_header_id|>assistant<|end_header_id|>\"\"\",\n",
    "    input_variables=[\"initial_email\",\"email_category\",\"research_info\"],\n",
    ")\n",
    "\n",
    "draft_analysis_chain = draft_analysis_prompt | GROQ_LLM | JsonOutputParser()\n",
    "\n",
    "email_category = 'customer_feedback'\n",
    "research_info = None\n",
    "draft_email = \"Yo we can't help you, best regards Sarah\"\n",
    "\n",
    "email_analysis = draft_analysis_chain.invoke({\"initial_email\": EMAIL,\n",
    "                                 \"email_category\":email_category,\n",
    "                                 \"research_info\":research_info,\n",
    "                                 \"draft_email\": draft_email})\n",
    "JSON(email_analysis)"
   ]
  },
  {
   "cell_type": "markdown",
   "metadata": {},
   "source": [
    "### Rewrite Email with Analysis"
   ]
  },
  {
   "cell_type": "code",
   "execution_count": 42,
   "metadata": {},
   "outputs": [
    {
     "data": {
      "text/markdown": [
       "Dear valued customer, Thank you for reaching out to us about our theme park. We're happy to help you with any questions you may have. Our park offers a variety of attractions, including [list specific attractions] and amenities like [list specific amenities]. If you're interested in learning more, please let us know and we'd be happy to assist you. We hope to see you at the park soon! Best regards, Sarah"
      ],
      "text/plain": [
       "<IPython.core.display.Markdown object>"
      ]
     },
     "metadata": {},
     "output_type": "display_data"
    }
   ],
   "source": [
    "rewrite_email_prompt = PromptTemplate(\n",
    "    template=\"\"\"<|begin_of_text|><|start_header_id|>system<|end_header_id|>\n",
    "    You are the Final Email Agent read the email analysis below from the QC Agent \\\n",
    "    and use it to rewrite and improve the draft_email to create a final email.\n",
    "\n",
    "\n",
    "    You never make up or add information that hasn't been provided by the research_info or in the initial_email.\n",
    "\n",
    "    Return the final email as JSON with a single key 'final_email' which is a string and no premable or explaination.\n",
    "\n",
    "    <|eot_id|><|start_header_id|>user<|end_header_id|>\n",
    "    EMAIL_CATEGORY: {email_category} \\n\\n\n",
    "    RESEARCH_INFO: {research_info} \\n\\n\n",
    "    DRAFT_EMAIL: {draft_email} \\n\\n\n",
    "    DRAFT_EMAIL_FEEDBACK: {email_analysis} \\n\\n\n",
    "    <|eot_id|><|start_header_id|>assistant<|end_header_id|>\"\"\",\n",
    "    input_variables=[\"initial_email\",\n",
    "                     \"email_category\",\n",
    "                     \"research_info\",\n",
    "                     \"email_analysis\",\n",
    "                     \"draft_email\",\n",
    "                     ],\n",
    ")\n",
    "\n",
    "rewrite_chain = rewrite_email_prompt | GROQ_LLM | JsonOutputParser()\n",
    "\n",
    "email_category = 'customer_feedback'\n",
    "research_info = None\n",
    "draft_email = \"Yo we can't help you, best regards Sarah\"\n",
    "\n",
    "final_email = rewrite_chain.invoke({\"initial_email\": EMAIL,\n",
    "                                 \"email_category\":email_category,\n",
    "                                 \"research_info\":research_info,\n",
    "                                 \"draft_email\": draft_email,\n",
    "                                \"email_analysis\":email_analysis})\n",
    "\n",
    "display(Markdown(final_email['final_email']))"
   ]
  },
  {
   "cell_type": "markdown",
   "metadata": {},
   "source": [
    "## State"
   ]
  },
  {
   "cell_type": "code",
   "execution_count": 44,
   "metadata": {},
   "outputs": [],
   "source": [
    "from langchain.schema import Document\n",
    "from langgraph.graph import END, StateGraph\n",
    "from typing_extensions import TypedDict\n",
    "from typing import List"
   ]
  },
  {
   "cell_type": "code",
   "execution_count": 46,
   "metadata": {},
   "outputs": [],
   "source": [
    "class GraphState(TypedDict):\n",
    "    \"\"\"\n",
    "    Represents the state of our graph.\n",
    "\n",
    "    Attributes:\n",
    "        initial_email: email\n",
    "        email_category: email category\n",
    "        draft_email: LLM generation\n",
    "        final_email: LLM generation\n",
    "        research_info: list of documents\n",
    "        info_needed: whether to add search info\n",
    "        num_steps: number of steps\n",
    "    \"\"\"\n",
    "    initial_email : str\n",
    "    email_category : str\n",
    "    draft_email : str\n",
    "    final_email : str\n",
    "    research_info : List[str] # this will now be the RAG results\n",
    "    info_needed : bool\n",
    "    num_steps : int\n",
    "    draft_email_feedback : dict\n",
    "    rag_questions : List[str]"
   ]
  },
  {
   "cell_type": "markdown",
   "metadata": {},
   "source": [
    "## Nodes\n",
    "\n",
    "1. categorize_email\n",
    "2. research_info_search # now done using RAG\n",
    "3. draft_email_writer  \n",
    "4. analyze_draft_email  \n",
    "5. rewrite_email  \n",
    "6. no_rewrite  \n",
    "7. state_printer"
   ]
  },
  {
   "cell_type": "code",
   "execution_count": 47,
   "metadata": {},
   "outputs": [],
   "source": [
    "def categorize_email(state):\n",
    "    \"\"\"take the initial email and categorize it\"\"\"\n",
    "    print(\"---CATEGORIZING INITIAL EMAIL---\")\n",
    "    initial_email = state['initial_email']\n",
    "    num_steps = int(state['num_steps'])\n",
    "    num_steps += 1\n",
    "\n",
    "    email_category = email_category_generator.invoke({\"initial_email\": initial_email})\n",
    "    print(email_category)\n",
    "    # save to local disk\n",
    "    write_markdown_file(email_category, Path(\"artifacts/email_category\"))\n",
    "\n",
    "    return {\"email_category\": email_category, \"num_steps\":num_steps}"
   ]
  },
  {
   "cell_type": "code",
   "execution_count": 48,
   "metadata": {},
   "outputs": [],
   "source": [
    "def research_info_search(state):\n",
    "\n",
    "    print(\"---RESEARCH INFO RAG---\")\n",
    "    initial_email = state[\"initial_email\"]\n",
    "    email_category = state[\"email_category\"]\n",
    "    num_steps = state['num_steps']\n",
    "    num_steps += 1\n",
    "\n",
    "    # Web search\n",
    "    questions = question_rag_chain.invoke({\"initial_email\": initial_email,\n",
    "                                            \"email_category\": email_category })\n",
    "    questions = questions['questions']\n",
    "    # print(questions)\n",
    "    rag_results = []\n",
    "    for question in questions:\n",
    "        print(question)\n",
    "        temp_docs = rag_chain.invoke(question)\n",
    "        print(temp_docs)\n",
    "        question_results = question + '\\n\\n' + temp_docs + \"\\n\\n\\n\"\n",
    "        if rag_results is not None:\n",
    "            rag_results.append(question_results)\n",
    "        else:\n",
    "            rag_results = [question_results]\n",
    "    print(rag_results)\n",
    "    print(type(rag_results))\n",
    "    write_markdown_file(rag_results, Path(\"artifacts/research_info\"))\n",
    "    write_markdown_file(questions, Path(\"artifacts/rag_questions\"))\n",
    "    return {\"research_info\": rag_results,\"rag_questions\":questions, \"num_steps\":num_steps}"
   ]
  },
  {
   "cell_type": "code",
   "execution_count": 49,
   "metadata": {},
   "outputs": [],
   "source": [
    "def draft_email_writer(state):\n",
    "    print(\"---DRAFT EMAIL WRITER---\")\n",
    "    ## Get the state\n",
    "    initial_email = state[\"initial_email\"]\n",
    "    email_category = state[\"email_category\"]\n",
    "    research_info = state[\"research_info\"]\n",
    "    num_steps = state['num_steps']\n",
    "    num_steps += 1\n",
    "\n",
    "    # Generate draft email\n",
    "    draft_email = draft_writer_chain.invoke({\"initial_email\": initial_email,\n",
    "                                     \"email_category\": email_category,\n",
    "                                     \"research_info\":research_info})\n",
    "    print(draft_email)\n",
    "    # print(type(draft_email))\n",
    "\n",
    "    email_draft = draft_email['email_draft']\n",
    "    write_markdown_file(email_draft, Path(\"artifacts/draft_email\"))\n",
    "\n",
    "    return {\"draft_email\": email_draft, \"num_steps\":num_steps}"
   ]
  },
  {
   "cell_type": "code",
   "execution_count": 50,
   "metadata": {},
   "outputs": [],
   "source": [
    "def analyze_draft_email(state):\n",
    "    print(\"---DRAFT EMAIL ANALYZER---\")\n",
    "    ## Get the state\n",
    "    initial_email = state[\"initial_email\"]\n",
    "    email_category = state[\"email_category\"]\n",
    "    draft_email = state[\"draft_email\"]\n",
    "    research_info = state[\"research_info\"]\n",
    "    num_steps = state['num_steps']\n",
    "    num_steps += 1\n",
    "\n",
    "    # Generate draft email\n",
    "    draft_email_feedback = draft_analysis_chain.invoke({\"initial_email\": initial_email,\n",
    "                                                \"email_category\": email_category,\n",
    "                                                \"research_info\":research_info,\n",
    "                                                \"draft_email\":draft_email}\n",
    "                                               )\n",
    "    # print(draft_email)\n",
    "    # print(type(draft_email))\n",
    "\n",
    "    write_markdown_file(str(draft_email_feedback),Path(\"artifacts/draft_email_feedback\") )\n",
    "    return {\"draft_email_feedback\": draft_email_feedback, \"num_steps\":num_steps}"
   ]
  },
  {
   "cell_type": "code",
   "execution_count": 51,
   "metadata": {},
   "outputs": [],
   "source": [
    "def rewrite_email(state):\n",
    "    print(\"---ReWRITE EMAIL ---\")\n",
    "    ## Get the state\n",
    "    initial_email = state[\"initial_email\"]\n",
    "    email_category = state[\"email_category\"]\n",
    "    draft_email = state[\"draft_email\"]\n",
    "    research_info = state[\"research_info\"]\n",
    "    draft_email_feedback = state[\"draft_email_feedback\"]\n",
    "    num_steps = state['num_steps']\n",
    "    num_steps += 1\n",
    "\n",
    "    # Generate draft email\n",
    "    final_email = rewrite_chain.invoke({\"initial_email\": initial_email,\n",
    "                                                \"email_category\": email_category,\n",
    "                                                \"research_info\":research_info,\n",
    "                                                \"draft_email\":draft_email,\n",
    "                                                \"email_analysis\": draft_email_feedback}\n",
    "                                               )\n",
    "\n",
    "    write_markdown_file(str(final_email), Path(\"artifacts/final_email\"))\n",
    "    return {\"final_email\": final_email['final_email'], \"num_steps\":num_steps}"
   ]
  },
  {
   "cell_type": "code",
   "execution_count": 52,
   "metadata": {},
   "outputs": [],
   "source": [
    "def no_rewrite(state):\n",
    "    print(\"---NO REWRITE EMAIL ---\")\n",
    "    ## Get the state\n",
    "    draft_email = state[\"draft_email\"]\n",
    "    num_steps = state['num_steps']\n",
    "    num_steps += 1\n",
    "\n",
    "    write_markdown_file(str(draft_email),Path(\"artifacts/final_email\"))\n",
    "    return {\"final_email\": draft_email, \"num_steps\":num_steps}"
   ]
  },
  {
   "cell_type": "code",
   "execution_count": 53,
   "metadata": {},
   "outputs": [],
   "source": [
    "def state_printer(state):\n",
    "    \"\"\"print the state\"\"\"\n",
    "    print(\"---STATE PRINTER---\")\n",
    "    print(f\"Initial Email: {state['initial_email']} \\n\" )\n",
    "    print(f\"Email Category: {state['email_category']} \\n\")\n",
    "    print(f\"Draft Email: {state['draft_email']} \\n\" )\n",
    "    print(f\"Final Email: {state['final_email']} \\n\" )\n",
    "    print(f\"Research Info: {state['research_info']} \\n\")\n",
    "    print(f\"RAG Questions: {state['rag_questions']} \\n\")\n",
    "    print(f\"Num Steps: {state['num_steps']} \\n\")\n",
    "    return"
   ]
  },
  {
   "cell_type": "markdown",
   "metadata": {},
   "source": [
    "## Conditional Edges"
   ]
  },
  {
   "cell_type": "code",
   "execution_count": 54,
   "metadata": {},
   "outputs": [],
   "source": [
    "def route_to_research(state):\n",
    "    \"\"\"\n",
    "    Route email to web search or not.\n",
    "    Args:\n",
    "        state (dict): The current graph state\n",
    "    Returns:\n",
    "        str: Next node to call\n",
    "    \"\"\"\n",
    "\n",
    "    print(\"---ROUTE TO RESEARCH---\")\n",
    "    initial_email = state[\"initial_email\"]\n",
    "    email_category = state[\"email_category\"]\n",
    "\n",
    "\n",
    "    router = research_router.invoke({\"initial_email\": initial_email,\"email_category\":email_category })\n",
    "    print(router)\n",
    "    # print(type(router))\n",
    "    print(router['router_decision'])\n",
    "    if router['router_decision'] == 'research_info':\n",
    "        print(\"---ROUTE EMAIL TO RESEARCH INFO---\")\n",
    "        return \"research_info\"\n",
    "    elif router['router_decision'] == 'draft_email':\n",
    "        print(\"---ROUTE EMAIL TO DRAFT EMAIL---\")\n",
    "        return \"draft_email\""
   ]
  },
  {
   "cell_type": "code",
   "execution_count": 55,
   "metadata": {},
   "outputs": [],
   "source": [
    "def route_to_rewrite(state):\n",
    "\n",
    "    print(\"---ROUTE TO REWRITE---\")\n",
    "    initial_email = state[\"initial_email\"]\n",
    "    email_category = state[\"email_category\"]\n",
    "    draft_email = state[\"draft_email\"]\n",
    "    # research_info = state[\"research_info\"]\n",
    "\n",
    "    # draft_email = \"Yo we can't help you, best regards Sarah\"\n",
    "\n",
    "    router = rewrite_router.invoke({\"initial_email\": initial_email,\n",
    "                                     \"email_category\":email_category,\n",
    "                                     \"draft_email\":draft_email}\n",
    "                                   )\n",
    "    print(router)\n",
    "    print(router['router_decision'])\n",
    "    if router['router_decision'] == 'rewrite':\n",
    "        print(\"---ROUTE TO ANALYSIS - REWRITE---\")\n",
    "        return \"rewrite\"\n",
    "    elif router['router_decision'] == 'no_rewrite':\n",
    "        print(\"---ROUTE EMAIL TO FINAL EMAIL---\")\n",
    "        return \"no_rewrite\""
   ]
  },
  {
   "cell_type": "markdown",
   "metadata": {},
   "source": [
    "## Build the Graph"
   ]
  },
  {
   "cell_type": "markdown",
   "metadata": {},
   "source": [
    "### Add Nodes"
   ]
  },
  {
   "cell_type": "code",
   "execution_count": 56,
   "metadata": {},
   "outputs": [],
   "source": [
    "workflow = StateGraph(GraphState)\n",
    "\n",
    "# Define the nodes\n",
    "workflow.add_node(\"categorize_email\", categorize_email) # categorize email\n",
    "workflow.add_node(\"research_info_search\", research_info_search) # web search\n",
    "workflow.add_node(\"state_printer\", state_printer)\n",
    "workflow.add_node(\"draft_email_writer\", draft_email_writer)\n",
    "workflow.add_node(\"analyze_draft_email\", analyze_draft_email)\n",
    "workflow.add_node(\"rewrite_email\", rewrite_email)\n",
    "workflow.add_node(\"no_rewrite\", no_rewrite)\n"
   ]
  },
  {
   "cell_type": "markdown",
   "metadata": {},
   "source": [
    "### Add Edges"
   ]
  },
  {
   "cell_type": "code",
   "execution_count": 57,
   "metadata": {},
   "outputs": [],
   "source": [
    "workflow.set_entry_point(\"categorize_email\")\n",
    "\n",
    "workflow.add_edge(\"categorize_email\", \"research_info_search\")\n",
    "workflow.add_edge(\"research_info_search\", \"draft_email_writer\")\n",
    "\n",
    "\n",
    "workflow.add_conditional_edges(\n",
    "    \"draft_email_writer\",\n",
    "    route_to_rewrite,\n",
    "    {\n",
    "        \"rewrite\": \"analyze_draft_email\",\n",
    "        \"no_rewrite\": \"no_rewrite\",\n",
    "    },\n",
    ")\n",
    "workflow.add_edge(\"analyze_draft_email\", \"rewrite_email\")\n",
    "workflow.add_edge(\"no_rewrite\", \"state_printer\")\n",
    "workflow.add_edge(\"rewrite_email\", \"state_printer\")\n",
    "workflow.add_edge(\"state_printer\", END)"
   ]
  },
  {
   "cell_type": "markdown",
   "metadata": {},
   "source": [
    "### Compile"
   ]
  },
  {
   "cell_type": "code",
   "execution_count": 58,
   "metadata": {},
   "outputs": [],
   "source": [
    "app = workflow.compile()"
   ]
  },
  {
   "cell_type": "markdown",
   "metadata": {},
   "source": [
    "## Test"
   ]
  },
  {
   "cell_type": "code",
   "execution_count": 59,
   "metadata": {},
   "outputs": [],
   "source": [
    "EMAIL = \"\"\"HI there, \\n\n",
    "I am a big fan of westworld.\n",
    "can I meet Maeve in the park? Really want to chat with her.\n",
    "\n",
    "Thanks,\n",
    "Ringo\n",
    "\"\"\""
   ]
  },
  {
   "cell_type": "code",
   "execution_count": 60,
   "metadata": {},
   "outputs": [
    {
     "name": "stdout",
     "output_type": "stream",
     "text": [
      "---CATEGORIZING INITIAL EMAIL---\n",
      "product_enquiry\n",
      "'Finished running: categorize_email:'\n",
      "---RESEARCH INFO RAG---\n",
      "Is Maeve a character that can be met in WestWorld?\n",
      "Yes, Maeve is a host that guests can meet and interact with in Westworld.\n",
      "Are character meet-and-greets available in WestWorld?\n",
      "Yes, character meet-and-greets are available in WestWorld. Guests can request to meet and interact with hosts modeled after various characters, such as Dolores, Maeve, Clementine, and Logan. These interactions can involve conversations, storylines, and adventures.\n",
      "What kind of interactions are possible with characters in WestWorld?\n",
      "In Westworld, guests can interact with characters (hosts) through conversations, storylines, and adventures. They can engage in intimate encounters, but these must be consensual and adhere to the park's ethical guidelines. Guests can also interact with other guests within the park, and many storylines encourage collaboration and shared experiences.\n",
      "['Is Maeve a character that can be met in WestWorld?\\n\\nYes, Maeve is a host that guests can meet and interact with in Westworld.\\n\\n\\n', 'Are character meet-and-greets available in WestWorld?\\n\\nYes, character meet-and-greets are available in WestWorld. Guests can request to meet and interact with hosts modeled after various characters, such as Dolores, Maeve, Clementine, and Logan. These interactions can involve conversations, storylines, and adventures.\\n\\n\\n', \"What kind of interactions are possible with characters in WestWorld?\\n\\nIn Westworld, guests can interact with characters (hosts) through conversations, storylines, and adventures. They can engage in intimate encounters, but these must be consensual and adhere to the park's ethical guidelines. Guests can also interact with other guests within the park, and many storylines encourage collaboration and shared experiences.\\n\\n\\n\"]\n",
      "<class 'list'>\n",
      "'Finished running: research_info_search:'\n",
      "---DRAFT EMAIL WRITER---\n",
      "{'email_draft': \"Dear Ringo,\\n\\nThank you for reaching out to us! We're thrilled to hear that you're a big fan of Westworld.\\n\\nWe're happy to let you know that yes, Maeve is a host that you can meet and interact with in the park. You can request to meet her and have a chat with her during your visit. In fact, you can also meet and interact with other hosts modeled after various characters, such as Dolores, Clementine, and Logan.\\n\\nIn Westworld, you can engage in conversations, storylines, and adventures with the hosts, making your experience even more immersive and exciting. Just remember that all interactions must be consensual and adhere to our park's ethical guidelines.\\n\\nWe can't wait for you to experience the magic of Westworld! If you have any more questions or need help planning your visit, please don't hesitate to reach out.\\n\\nBest regards,\\nSarah\\nResident Manager\"}\n",
      "---ROUTE TO REWRITE---\n",
      "{'router_decision': 'no_rewrite'}\n",
      "no_rewrite\n",
      "---ROUTE EMAIL TO FINAL EMAIL---\n",
      "'Finished running: draft_email_writer:'\n",
      "---NO REWRITE EMAIL ---\n",
      "'Finished running: no_rewrite:'\n",
      "---STATE PRINTER---\n",
      "Initial Email: HI there, \n",
      "\n",
      "I am a big fan of westworld.\n",
      "can I meet Maeve in the park? Really want to chat with her.\n",
      "\n",
      "Thanks,\n",
      "Ringo\n",
      " \n",
      "\n",
      "Email Category: product_enquiry \n",
      "\n",
      "Draft Email: Dear Ringo,\n",
      "\n",
      "Thank you for reaching out to us! We're thrilled to hear that you're a big fan of Westworld.\n",
      "\n",
      "We're happy to let you know that yes, Maeve is a host that you can meet and interact with in the park. You can request to meet her and have a chat with her during your visit. In fact, you can also meet and interact with other hosts modeled after various characters, such as Dolores, Clementine, and Logan.\n",
      "\n",
      "In Westworld, you can engage in conversations, storylines, and adventures with the hosts, making your experience even more immersive and exciting. Just remember that all interactions must be consensual and adhere to our park's ethical guidelines.\n",
      "\n",
      "We can't wait for you to experience the magic of Westworld! If you have any more questions or need help planning your visit, please don't hesitate to reach out.\n",
      "\n",
      "Best regards,\n",
      "Sarah\n",
      "Resident Manager \n",
      "\n",
      "Final Email: Dear Ringo,\n",
      "\n",
      "Thank you for reaching out to us! We're thrilled to hear that you're a big fan of Westworld.\n",
      "\n",
      "We're happy to let you know that yes, Maeve is a host that you can meet and interact with in the park. You can request to meet her and have a chat with her during your visit. In fact, you can also meet and interact with other hosts modeled after various characters, such as Dolores, Clementine, and Logan.\n",
      "\n",
      "In Westworld, you can engage in conversations, storylines, and adventures with the hosts, making your experience even more immersive and exciting. Just remember that all interactions must be consensual and adhere to our park's ethical guidelines.\n",
      "\n",
      "We can't wait for you to experience the magic of Westworld! If you have any more questions or need help planning your visit, please don't hesitate to reach out.\n",
      "\n",
      "Best regards,\n",
      "Sarah\n",
      "Resident Manager \n",
      "\n",
      "Research Info: ['Is Maeve a character that can be met in WestWorld?\\n\\nYes, Maeve is a host that guests can meet and interact with in Westworld.\\n\\n\\n', 'Are character meet-and-greets available in WestWorld?\\n\\nYes, character meet-and-greets are available in WestWorld. Guests can request to meet and interact with hosts modeled after various characters, such as Dolores, Maeve, Clementine, and Logan. These interactions can involve conversations, storylines, and adventures.\\n\\n\\n', \"What kind of interactions are possible with characters in WestWorld?\\n\\nIn Westworld, guests can interact with characters (hosts) through conversations, storylines, and adventures. They can engage in intimate encounters, but these must be consensual and adhere to the park's ethical guidelines. Guests can also interact with other guests within the park, and many storylines encourage collaboration and shared experiences.\\n\\n\\n\"] \n",
      "\n",
      "RAG Questions: ['Is Maeve a character that can be met in WestWorld?', 'Are character meet-and-greets available in WestWorld?', 'What kind of interactions are possible with characters in WestWorld?'] \n",
      "\n",
      "Num Steps: 4 \n",
      "\n"
     ]
    }
   ],
   "source": [
    "# run the agent\n",
    "inputs = {\"initial_email\": EMAIL, \"num_steps\":0}\n",
    "for output in app.stream(inputs):\n",
    "    for key, value in output.items():\n",
    "        pprint(f\"Finished running: {key}:\")"
   ]
  }
 ],
 "metadata": {
  "kernelspec": {
   "display_name": "venv",
   "language": "python",
   "name": "python3"
  },
  "language_info": {
   "codemirror_mode": {
    "name": "ipython",
    "version": 3
   },
   "file_extension": ".py",
   "mimetype": "text/x-python",
   "name": "python",
   "nbconvert_exporter": "python",
   "pygments_lexer": "ipython3",
   "version": "3.11.9"
  }
 },
 "nbformat": 4,
 "nbformat_minor": 2
}
